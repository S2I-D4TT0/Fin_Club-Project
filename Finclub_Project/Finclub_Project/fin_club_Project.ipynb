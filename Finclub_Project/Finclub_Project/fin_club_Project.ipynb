{
  "cells": [
    {
      "cell_type": "markdown",
      "metadata": {
        "id": "ndxJ8o0kC02S"
      },
      "source": [
        "**Importing Libraries**"
      ]
    },
    {
      "cell_type": "code",
      "execution_count": 99,
      "metadata": {
        "id": "WNiubyuWanWH"
      },
      "outputs": [],
      "source": [
        "import pandas as pd\n",
        "import numpy as np\n",
        "import matplotlib.pyplot as plt\n",
        "import seaborn as sns\n",
        "from sklearn.metrics import classification_report, roc_auc_score, roc_curve\n",
        "from sklearn.model_selection import train_test_split"
      ]
    },
    {
      "cell_type": "markdown",
      "metadata": {
        "id": "W8DD3u0ZCvgZ"
      },
      "source": [
        "**Data Loading**"
      ]
    },
    {
      "cell_type": "code",
      "execution_count": null,
      "metadata": {
        "id": "eZxl62EsbBpY"
      },
      "outputs": [],
      "source": [
        "df=pd.read_csv(r'C:\\Users\\sridattu\\Downloads\\train_dataset_final1.csv')"
      ]
    },
    {
      "cell_type": "markdown",
      "metadata": {
        "id": "NU3zPnIZrW_T"
      },
      "source": [
        "**Renaming of Column pay_0 to pay_1**"
      ]
    },
    {
      "cell_type": "code",
      "execution_count": 101,
      "metadata": {
        "id": "xWfrXAy0l_Xr"
      },
      "outputs": [],
      "source": [
        "df = df.rename(columns={'pay_0': 'pay_1'})"
      ]
    },
    {
      "cell_type": "code",
      "execution_count": 102,
      "metadata": {
        "colab": {
          "base_uri": "https://localhost:8080/",
          "height": 412
        },
        "id": "Tdbl6a66bOd9",
        "outputId": "a3d3a223-f0be-4f3b-c9cb-85c443488f2e"
      },
      "outputs": [
        {
          "data": {
            "text/html": [
              "<div>\n",
              "<style scoped>\n",
              "    .dataframe tbody tr th:only-of-type {\n",
              "        vertical-align: middle;\n",
              "    }\n",
              "\n",
              "    .dataframe tbody tr th {\n",
              "        vertical-align: top;\n",
              "    }\n",
              "\n",
              "    .dataframe thead th {\n",
              "        text-align: right;\n",
              "    }\n",
              "</style>\n",
              "<table border=\"1\" class=\"dataframe\">\n",
              "  <thead>\n",
              "    <tr style=\"text-align: right;\">\n",
              "      <th></th>\n",
              "      <th>Customer_ID</th>\n",
              "      <th>marriage</th>\n",
              "      <th>sex</th>\n",
              "      <th>education</th>\n",
              "      <th>LIMIT_BAL</th>\n",
              "      <th>age</th>\n",
              "      <th>pay_1</th>\n",
              "      <th>pay_2</th>\n",
              "      <th>pay_3</th>\n",
              "      <th>pay_4</th>\n",
              "      <th>...</th>\n",
              "      <th>Bill_amt6</th>\n",
              "      <th>pay_amt1</th>\n",
              "      <th>pay_amt2</th>\n",
              "      <th>pay_amt3</th>\n",
              "      <th>pay_amt4</th>\n",
              "      <th>pay_amt5</th>\n",
              "      <th>pay_amt6</th>\n",
              "      <th>AVG_Bill_amt</th>\n",
              "      <th>PAY_TO_BILL_ratio</th>\n",
              "      <th>next_month_default</th>\n",
              "    </tr>\n",
              "  </thead>\n",
              "  <tbody>\n",
              "    <tr>\n",
              "      <th>0</th>\n",
              "      <td>5017</td>\n",
              "      <td>2</td>\n",
              "      <td>0</td>\n",
              "      <td>2</td>\n",
              "      <td>60000</td>\n",
              "      <td>25.0</td>\n",
              "      <td>2</td>\n",
              "      <td>2</td>\n",
              "      <td>2</td>\n",
              "      <td>0</td>\n",
              "      <td>...</td>\n",
              "      <td>20750.63</td>\n",
              "      <td>2000.21</td>\n",
              "      <td>0.00</td>\n",
              "      <td>1134.85</td>\n",
              "      <td>1821.78</td>\n",
              "      <td>1500.03</td>\n",
              "      <td>1500.24</td>\n",
              "      <td>41511.50</td>\n",
              "      <td>0.03</td>\n",
              "      <td>0</td>\n",
              "    </tr>\n",
              "    <tr>\n",
              "      <th>1</th>\n",
              "      <td>5018</td>\n",
              "      <td>2</td>\n",
              "      <td>1</td>\n",
              "      <td>1</td>\n",
              "      <td>290000</td>\n",
              "      <td>24.0</td>\n",
              "      <td>0</td>\n",
              "      <td>0</td>\n",
              "      <td>-2</td>\n",
              "      <td>-2</td>\n",
              "      <td>...</td>\n",
              "      <td>1350.30</td>\n",
              "      <td>0.00</td>\n",
              "      <td>0.17</td>\n",
              "      <td>0.00</td>\n",
              "      <td>2700.10</td>\n",
              "      <td>0.00</td>\n",
              "      <td>1349.72</td>\n",
              "      <td>2534.50</td>\n",
              "      <td>0.27</td>\n",
              "      <td>0</td>\n",
              "    </tr>\n",
              "    <tr>\n",
              "      <th>2</th>\n",
              "      <td>5019</td>\n",
              "      <td>1</td>\n",
              "      <td>0</td>\n",
              "      <td>2</td>\n",
              "      <td>180000</td>\n",
              "      <td>63.0</td>\n",
              "      <td>0</td>\n",
              "      <td>0</td>\n",
              "      <td>0</td>\n",
              "      <td>0</td>\n",
              "      <td>...</td>\n",
              "      <td>52991.51</td>\n",
              "      <td>2086.94</td>\n",
              "      <td>2199.99</td>\n",
              "      <td>1845.66</td>\n",
              "      <td>2000.35</td>\n",
              "      <td>1923.00</td>\n",
              "      <td>1999.78</td>\n",
              "      <td>50422.00</td>\n",
              "      <td>0.04</td>\n",
              "      <td>0</td>\n",
              "    </tr>\n",
              "    <tr>\n",
              "      <th>3</th>\n",
              "      <td>5020</td>\n",
              "      <td>1</td>\n",
              "      <td>1</td>\n",
              "      <td>2</td>\n",
              "      <td>210000</td>\n",
              "      <td>43.0</td>\n",
              "      <td>0</td>\n",
              "      <td>0</td>\n",
              "      <td>0</td>\n",
              "      <td>0</td>\n",
              "      <td>...</td>\n",
              "      <td>76945.47</td>\n",
              "      <td>3348.07</td>\n",
              "      <td>3380.91</td>\n",
              "      <td>3400.45</td>\n",
              "      <td>2683.97</td>\n",
              "      <td>2744.00</td>\n",
              "      <td>2892.10</td>\n",
              "      <td>86229.50</td>\n",
              "      <td>0.04</td>\n",
              "      <td>0</td>\n",
              "    </tr>\n",
              "    <tr>\n",
              "      <th>4</th>\n",
              "      <td>5021</td>\n",
              "      <td>2</td>\n",
              "      <td>0</td>\n",
              "      <td>1</td>\n",
              "      <td>280000</td>\n",
              "      <td>32.0</td>\n",
              "      <td>-2</td>\n",
              "      <td>-2</td>\n",
              "      <td>-2</td>\n",
              "      <td>-2</td>\n",
              "      <td>...</td>\n",
              "      <td>1.35</td>\n",
              "      <td>999.78</td>\n",
              "      <td>3186.27</td>\n",
              "      <td>45027.78</td>\n",
              "      <td>2100.09</td>\n",
              "      <td>0.01</td>\n",
              "      <td>0.27</td>\n",
              "      <td>11814.33</td>\n",
              "      <td>0.72</td>\n",
              "      <td>0</td>\n",
              "    </tr>\n",
              "    <tr>\n",
              "      <th>5</th>\n",
              "      <td>5022</td>\n",
              "      <td>1</td>\n",
              "      <td>1</td>\n",
              "      <td>1</td>\n",
              "      <td>80000</td>\n",
              "      <td>35.0</td>\n",
              "      <td>-1</td>\n",
              "      <td>2</td>\n",
              "      <td>-1</td>\n",
              "      <td>-1</td>\n",
              "      <td>...</td>\n",
              "      <td>3294.93</td>\n",
              "      <td>0.03</td>\n",
              "      <td>3722.62</td>\n",
              "      <td>890.98</td>\n",
              "      <td>661.97</td>\n",
              "      <td>3294.84</td>\n",
              "      <td>1087.51</td>\n",
              "      <td>1946.50</td>\n",
              "      <td>0.83</td>\n",
              "      <td>0</td>\n",
              "    </tr>\n",
              "    <tr>\n",
              "      <th>6</th>\n",
              "      <td>5023</td>\n",
              "      <td>1</td>\n",
              "      <td>0</td>\n",
              "      <td>2</td>\n",
              "      <td>200000</td>\n",
              "      <td>37.0</td>\n",
              "      <td>-1</td>\n",
              "      <td>-1</td>\n",
              "      <td>0</td>\n",
              "      <td>-1</td>\n",
              "      <td>...</td>\n",
              "      <td>10712.01</td>\n",
              "      <td>19312.98</td>\n",
              "      <td>9455.13</td>\n",
              "      <td>15306.21</td>\n",
              "      <td>7055.30</td>\n",
              "      <td>10700.16</td>\n",
              "      <td>12388.83</td>\n",
              "      <td>15185.33</td>\n",
              "      <td>0.81</td>\n",
              "      <td>0</td>\n",
              "    </tr>\n",
              "    <tr>\n",
              "      <th>7</th>\n",
              "      <td>5024</td>\n",
              "      <td>3</td>\n",
              "      <td>1</td>\n",
              "      <td>2</td>\n",
              "      <td>50000</td>\n",
              "      <td>24.0</td>\n",
              "      <td>0</td>\n",
              "      <td>0</td>\n",
              "      <td>0</td>\n",
              "      <td>0</td>\n",
              "      <td>...</td>\n",
              "      <td>5651.27</td>\n",
              "      <td>1600.15</td>\n",
              "      <td>6207.28</td>\n",
              "      <td>1464.87</td>\n",
              "      <td>2199.89</td>\n",
              "      <td>1000.26</td>\n",
              "      <td>3000.16</td>\n",
              "      <td>21055.33</td>\n",
              "      <td>0.12</td>\n",
              "      <td>0</td>\n",
              "    </tr>\n",
              "    <tr>\n",
              "      <th>8</th>\n",
              "      <td>5025</td>\n",
              "      <td>1</td>\n",
              "      <td>1</td>\n",
              "      <td>3</td>\n",
              "      <td>50000</td>\n",
              "      <td>44.0</td>\n",
              "      <td>0</td>\n",
              "      <td>0</td>\n",
              "      <td>0</td>\n",
              "      <td>0</td>\n",
              "      <td>...</td>\n",
              "      <td>9001.04</td>\n",
              "      <td>1761.95</td>\n",
              "      <td>2311.19</td>\n",
              "      <td>2200.21</td>\n",
              "      <td>176.18</td>\n",
              "      <td>180.19</td>\n",
              "      <td>9769.14</td>\n",
              "      <td>35039.67</td>\n",
              "      <td>0.08</td>\n",
              "      <td>0</td>\n",
              "    </tr>\n",
              "    <tr>\n",
              "      <th>9</th>\n",
              "      <td>5026</td>\n",
              "      <td>2</td>\n",
              "      <td>1</td>\n",
              "      <td>1</td>\n",
              "      <td>440000</td>\n",
              "      <td>NaN</td>\n",
              "      <td>0</td>\n",
              "      <td>-1</td>\n",
              "      <td>-1</td>\n",
              "      <td>-2</td>\n",
              "      <td>...</td>\n",
              "      <td>11350.05</td>\n",
              "      <td>8998.93</td>\n",
              "      <td>0.00</td>\n",
              "      <td>0.00</td>\n",
              "      <td>10960.93</td>\n",
              "      <td>502.87</td>\n",
              "      <td>448.09</td>\n",
              "      <td>9569.17</td>\n",
              "      <td>0.36</td>\n",
              "      <td>0</td>\n",
              "    </tr>\n",
              "  </tbody>\n",
              "</table>\n",
              "<p>10 rows × 27 columns</p>\n",
              "</div>"
            ],
            "text/plain": [
              "   Customer_ID  marriage  sex  education  LIMIT_BAL   age  pay_1  pay_2  \\\n",
              "0         5017         2    0          2      60000  25.0      2      2   \n",
              "1         5018         2    1          1     290000  24.0      0      0   \n",
              "2         5019         1    0          2     180000  63.0      0      0   \n",
              "3         5020         1    1          2     210000  43.0      0      0   \n",
              "4         5021         2    0          1     280000  32.0     -2     -2   \n",
              "5         5022         1    1          1      80000  35.0     -1      2   \n",
              "6         5023         1    0          2     200000  37.0     -1     -1   \n",
              "7         5024         3    1          2      50000  24.0      0      0   \n",
              "8         5025         1    1          3      50000  44.0      0      0   \n",
              "9         5026         2    1          1     440000   NaN      0     -1   \n",
              "\n",
              "   pay_3  pay_4  ...  Bill_amt6  pay_amt1  pay_amt2  pay_amt3  pay_amt4  \\\n",
              "0      2      0  ...   20750.63   2000.21      0.00   1134.85   1821.78   \n",
              "1     -2     -2  ...    1350.30      0.00      0.17      0.00   2700.10   \n",
              "2      0      0  ...   52991.51   2086.94   2199.99   1845.66   2000.35   \n",
              "3      0      0  ...   76945.47   3348.07   3380.91   3400.45   2683.97   \n",
              "4     -2     -2  ...       1.35    999.78   3186.27  45027.78   2100.09   \n",
              "5     -1     -1  ...    3294.93      0.03   3722.62    890.98    661.97   \n",
              "6      0     -1  ...   10712.01  19312.98   9455.13  15306.21   7055.30   \n",
              "7      0      0  ...    5651.27   1600.15   6207.28   1464.87   2199.89   \n",
              "8      0      0  ...    9001.04   1761.95   2311.19   2200.21    176.18   \n",
              "9     -1     -2  ...   11350.05   8998.93      0.00      0.00  10960.93   \n",
              "\n",
              "   pay_amt5  pay_amt6  AVG_Bill_amt  PAY_TO_BILL_ratio  next_month_default  \n",
              "0   1500.03   1500.24      41511.50               0.03                   0  \n",
              "1      0.00   1349.72       2534.50               0.27                   0  \n",
              "2   1923.00   1999.78      50422.00               0.04                   0  \n",
              "3   2744.00   2892.10      86229.50               0.04                   0  \n",
              "4      0.01      0.27      11814.33               0.72                   0  \n",
              "5   3294.84   1087.51       1946.50               0.83                   0  \n",
              "6  10700.16  12388.83      15185.33               0.81                   0  \n",
              "7   1000.26   3000.16      21055.33               0.12                   0  \n",
              "8    180.19   9769.14      35039.67               0.08                   0  \n",
              "9    502.87    448.09       9569.17               0.36                   0  \n",
              "\n",
              "[10 rows x 27 columns]"
            ]
          },
          "execution_count": 102,
          "metadata": {},
          "output_type": "execute_result"
        }
      ],
      "source": [
        "df.head(10)"
      ]
    },
    {
      "cell_type": "code",
      "execution_count": 103,
      "metadata": {
        "colab": {
          "base_uri": "https://localhost:8080/"
        },
        "id": "Mq4ayfg3bj51",
        "outputId": "7464598b-18cf-4a71-dd69-082170ec4d9b"
      },
      "outputs": [
        {
          "data": {
            "text/plain": [
              "(25247, 27)"
            ]
          },
          "execution_count": 103,
          "metadata": {},
          "output_type": "execute_result"
        }
      ],
      "source": [
        "df.shape"
      ]
    },
    {
      "cell_type": "code",
      "execution_count": 104,
      "metadata": {
        "colab": {
          "base_uri": "https://localhost:8080/",
          "height": 930
        },
        "id": "CApt_uT0cYL9",
        "outputId": "2a2e7e5f-3cfb-4855-d23c-8e91ef4c04d1"
      },
      "outputs": [
        {
          "data": {
            "text/plain": [
              "Customer_ID             int64\n",
              "marriage                int64\n",
              "sex                     int64\n",
              "education               int64\n",
              "LIMIT_BAL               int64\n",
              "age                   float64\n",
              "pay_1                   int64\n",
              "pay_2                   int64\n",
              "pay_3                   int64\n",
              "pay_4                   int64\n",
              "pay_5                   int64\n",
              "pay_6                   int64\n",
              "Bill_amt1             float64\n",
              "Bill_amt2             float64\n",
              "Bill_amt3             float64\n",
              "Bill_amt4             float64\n",
              "Bill_amt5             float64\n",
              "Bill_amt6             float64\n",
              "pay_amt1              float64\n",
              "pay_amt2              float64\n",
              "pay_amt3              float64\n",
              "pay_amt4              float64\n",
              "pay_amt5              float64\n",
              "pay_amt6              float64\n",
              "AVG_Bill_amt          float64\n",
              "PAY_TO_BILL_ratio     float64\n",
              "next_month_default      int64\n",
              "dtype: object"
            ]
          },
          "execution_count": 104,
          "metadata": {},
          "output_type": "execute_result"
        }
      ],
      "source": [
        "df.dtypes"
      ]
    },
    {
      "cell_type": "code",
      "execution_count": 105,
      "metadata": {
        "colab": {
          "base_uri": "https://localhost:8080/"
        },
        "id": "zugEh2NfccaI",
        "outputId": "159bb84e-0ccf-4498-cef8-bfe0e91977fd"
      },
      "outputs": [
        {
          "name": "stdout",
          "output_type": "stream",
          "text": [
            "        Customer_ID      marriage           sex     education       LIMIT_BAL  \\\n",
            "count  25247.000000  25247.000000  25247.000000  25247.000000    25247.000000   \n",
            "mean   17640.000000      1.551907      0.604111      1.852101   168342.060443   \n",
            "std     7288.325459      0.522629      0.489050      0.797379   129892.784807   \n",
            "min     5017.000000      0.000000      0.000000      0.000000    10000.000000   \n",
            "25%    11328.500000      1.000000      0.000000      1.000000    50000.000000   \n",
            "50%    17640.000000      2.000000      1.000000      2.000000   140000.000000   \n",
            "75%    23951.500000      2.000000      1.000000      2.000000   240000.000000   \n",
            "max    30263.000000      3.000000      1.000000      6.000000  1000000.000000   \n",
            "\n",
            "                age         pay_1         pay_2         pay_3         pay_4  \\\n",
            "count  25121.000000  25247.000000  25247.000000  25247.000000  25247.000000   \n",
            "mean      35.438199     -0.042857     -0.159544     -0.190359     -0.241415   \n",
            "std        9.174998      1.099315      1.173990      1.172636      1.146753   \n",
            "min       21.000000     -2.000000     -2.000000     -2.000000     -2.000000   \n",
            "25%       28.000000     -1.000000     -1.000000     -1.000000     -1.000000   \n",
            "50%       34.000000      0.000000      0.000000      0.000000      0.000000   \n",
            "75%       41.000000      0.000000      0.000000      0.000000      0.000000   \n",
            "max       79.000000      8.000000      8.000000      8.000000      7.000000   \n",
            "\n",
            "       ...      Bill_amt6       pay_amt1      pay_amt2       pay_amt3  \\\n",
            "count  ...   25247.000000   25247.000000  2.524700e+04   25247.000000   \n",
            "mean   ...   38806.221029    5718.624966  6.047352e+03    5288.910651   \n",
            "std    ...   59182.792531   16806.842125  2.400962e+04   17851.879609   \n",
            "min    ...       0.000000       0.000000  0.000000e+00       0.000000   \n",
            "25%    ...    1241.710000     999.985000  9.219100e+02     399.990000   \n",
            "50%    ...   17102.580000    2145.020000  2.026830e+03    1844.300000   \n",
            "75%    ...   49245.195000    5031.150000  5.000190e+03    4600.640000   \n",
            "max    ...  961663.620000  873551.980000  1.684259e+06  896040.150000   \n",
            "\n",
            "            pay_amt4       pay_amt5       pay_amt6   AVG_Bill_amt  \\\n",
            "count   25247.000000   25247.000000   25247.000000   25247.000000   \n",
            "mean     4865.960834    4906.766828    5270.499287   44859.647485   \n",
            "std     15979.116544   15860.726852   17960.816915   62819.226119   \n",
            "min         0.000000       0.000000       0.000000  -56043.170000   \n",
            "25%       300.150000     262.365000     130.070000    4858.670000   \n",
            "50%      1500.100000    1513.790000    1500.040000   21102.830000   \n",
            "75%      4014.990000    4099.890000    4018.780000   57136.580000   \n",
            "max    621000.080000  426529.180000  528666.150000  877313.830000   \n",
            "\n",
            "       PAY_TO_BILL_ratio  next_month_default  \n",
            "count       25247.000000        25247.000000  \n",
            "mean            0.362962            0.190399  \n",
            "std             5.047206            0.392624  \n",
            "min          -546.930000            0.000000  \n",
            "25%             0.040000            0.000000  \n",
            "50%             0.090000            0.000000  \n",
            "75%             0.590000            0.000000  \n",
            "max           205.380000            1.000000  \n",
            "\n",
            "[8 rows x 27 columns]\n"
          ]
        },
        {
          "data": {
            "text/plain": [
              "Index(['Customer_ID', 'marriage', 'sex', 'education', 'LIMIT_BAL', 'age',\n",
              "       'pay_1', 'pay_2', 'pay_3', 'pay_4', 'pay_5', 'pay_6', 'Bill_amt1',\n",
              "       'Bill_amt2', 'Bill_amt3', 'Bill_amt4', 'Bill_amt5', 'Bill_amt6',\n",
              "       'pay_amt1', 'pay_amt2', 'pay_amt3', 'pay_amt4', 'pay_amt5', 'pay_amt6',\n",
              "       'AVG_Bill_amt', 'PAY_TO_BILL_ratio', 'next_month_default'],\n",
              "      dtype='object')"
            ]
          },
          "execution_count": 105,
          "metadata": {},
          "output_type": "execute_result"
        }
      ],
      "source": [
        "print(df.describe())\n",
        "df.columns"
      ]
    },
    {
      "cell_type": "markdown",
      "metadata": {
        "id": "7l7K7hrWrnxl"
      },
      "source": [
        "**bold text**"
      ]
    },
    {
      "cell_type": "markdown",
      "metadata": {
        "id": "cCfGzcGkrrEj"
      },
      "source": [
        "**Checking for class Imbalance**"
      ]
    },
    {
      "cell_type": "code",
      "execution_count": 106,
      "metadata": {
        "colab": {
          "base_uri": "https://localhost:8080/"
        },
        "id": "h5R3y-47dfds",
        "outputId": "da1136e2-7e02-4eb5-8b65-71d9bb12e0c3"
      },
      "outputs": [
        {
          "name": "stdout",
          "output_type": "stream",
          "text": [
            "next_month_default\n",
            "0    20440\n",
            "1     4807\n",
            "Name: count, dtype: int64\n"
          ]
        }
      ],
      "source": [
        "default_counts = df['next_month_default'].value_counts()\n",
        "print(default_counts)"
      ]
    },
    {
      "cell_type": "code",
      "execution_count": 107,
      "metadata": {
        "colab": {
          "base_uri": "https://localhost:8080/"
        },
        "id": "J7Uolh8qzBlG",
        "outputId": "39a97807-8387-42dd-ca42-cdeff492f66a"
      },
      "outputs": [
        {
          "name": "stdout",
          "output_type": "stream",
          "text": [
            "Customer_ID             0\n",
            "marriage                0\n",
            "sex                     0\n",
            "education               0\n",
            "LIMIT_BAL               0\n",
            "age                   126\n",
            "pay_1                   0\n",
            "pay_2                   0\n",
            "pay_3                   0\n",
            "pay_4                   0\n",
            "pay_5                   0\n",
            "pay_6                   0\n",
            "Bill_amt1               0\n",
            "Bill_amt2               0\n",
            "Bill_amt3               0\n",
            "Bill_amt4               0\n",
            "Bill_amt5               0\n",
            "Bill_amt6               0\n",
            "pay_amt1                0\n",
            "pay_amt2                0\n",
            "pay_amt3                0\n",
            "pay_amt4                0\n",
            "pay_amt5                0\n",
            "pay_amt6                0\n",
            "AVG_Bill_amt            0\n",
            "PAY_TO_BILL_ratio       0\n",
            "next_month_default      0\n",
            "dtype: int64\n"
          ]
        }
      ],
      "source": [
        "# Check how many missing values are in each column\n",
        "print(df.isnull().sum())"
      ]
    },
    {
      "cell_type": "markdown",
      "metadata": {
        "id": "WwMYvOHxDEUX"
      },
      "source": [
        "Data Pre-processing for EDA"
      ]
    },
    {
      "cell_type": "markdown",
      "metadata": {
        "id": "_dDXZ-sXOSGX"
      },
      "source": [
        "**Removing Null Values**"
      ]
    },
    {
      "cell_type": "code",
      "execution_count": 65,
      "metadata": {
        "colab": {
          "base_uri": "https://localhost:8080/"
        },
        "id": "vNSlOxXBzII2",
        "outputId": "ce95f08f-bdaa-4b6f-8611-ea399fc2fbcf"
      },
      "outputs": [
        {
          "data": {
            "text/plain": [
              "(25121, 27)"
            ]
          },
          "execution_count": 65,
          "metadata": {},
          "output_type": "execute_result"
        }
      ],
      "source": [
        "df= df.dropna()\n",
        "df.shape"
      ]
    },
    {
      "cell_type": "code",
      "execution_count": 108,
      "metadata": {
        "id": "F0B-7cZVI8cZ"
      },
      "outputs": [],
      "source": [
        "# since in the assesment the Customer ID column does not act as any useful feature we can drop it\n",
        "df_credit = df.drop([\"Customer_ID\"],axis=1)"
      ]
    },
    {
      "cell_type": "code",
      "execution_count": 109,
      "metadata": {
        "colab": {
          "base_uri": "https://localhost:8080/",
          "height": 255
        },
        "id": "ioa6q5kyJMok",
        "outputId": "fcd442b9-951b-4156-a82c-0f7b37c7d088"
      },
      "outputs": [
        {
          "data": {
            "text/html": [
              "<div>\n",
              "<style scoped>\n",
              "    .dataframe tbody tr th:only-of-type {\n",
              "        vertical-align: middle;\n",
              "    }\n",
              "\n",
              "    .dataframe tbody tr th {\n",
              "        vertical-align: top;\n",
              "    }\n",
              "\n",
              "    .dataframe thead th {\n",
              "        text-align: right;\n",
              "    }\n",
              "</style>\n",
              "<table border=\"1\" class=\"dataframe\">\n",
              "  <thead>\n",
              "    <tr style=\"text-align: right;\">\n",
              "      <th></th>\n",
              "      <th>marriage</th>\n",
              "      <th>sex</th>\n",
              "      <th>education</th>\n",
              "      <th>LIMIT_BAL</th>\n",
              "      <th>age</th>\n",
              "      <th>pay_1</th>\n",
              "      <th>pay_2</th>\n",
              "      <th>pay_3</th>\n",
              "      <th>pay_4</th>\n",
              "      <th>pay_5</th>\n",
              "      <th>...</th>\n",
              "      <th>Bill_amt6</th>\n",
              "      <th>pay_amt1</th>\n",
              "      <th>pay_amt2</th>\n",
              "      <th>pay_amt3</th>\n",
              "      <th>pay_amt4</th>\n",
              "      <th>pay_amt5</th>\n",
              "      <th>pay_amt6</th>\n",
              "      <th>AVG_Bill_amt</th>\n",
              "      <th>PAY_TO_BILL_ratio</th>\n",
              "      <th>next_month_default</th>\n",
              "    </tr>\n",
              "  </thead>\n",
              "  <tbody>\n",
              "    <tr>\n",
              "      <th>0</th>\n",
              "      <td>2</td>\n",
              "      <td>0</td>\n",
              "      <td>2</td>\n",
              "      <td>60000</td>\n",
              "      <td>25.0</td>\n",
              "      <td>2</td>\n",
              "      <td>2</td>\n",
              "      <td>2</td>\n",
              "      <td>0</td>\n",
              "      <td>0</td>\n",
              "      <td>...</td>\n",
              "      <td>20750.63</td>\n",
              "      <td>2000.21</td>\n",
              "      <td>0.00</td>\n",
              "      <td>1134.85</td>\n",
              "      <td>1821.78</td>\n",
              "      <td>1500.03</td>\n",
              "      <td>1500.24</td>\n",
              "      <td>41511.50</td>\n",
              "      <td>0.03</td>\n",
              "      <td>0</td>\n",
              "    </tr>\n",
              "    <tr>\n",
              "      <th>1</th>\n",
              "      <td>2</td>\n",
              "      <td>1</td>\n",
              "      <td>1</td>\n",
              "      <td>290000</td>\n",
              "      <td>24.0</td>\n",
              "      <td>0</td>\n",
              "      <td>0</td>\n",
              "      <td>-2</td>\n",
              "      <td>-2</td>\n",
              "      <td>-1</td>\n",
              "      <td>...</td>\n",
              "      <td>1350.30</td>\n",
              "      <td>0.00</td>\n",
              "      <td>0.17</td>\n",
              "      <td>0.00</td>\n",
              "      <td>2700.10</td>\n",
              "      <td>0.00</td>\n",
              "      <td>1349.72</td>\n",
              "      <td>2534.50</td>\n",
              "      <td>0.27</td>\n",
              "      <td>0</td>\n",
              "    </tr>\n",
              "    <tr>\n",
              "      <th>2</th>\n",
              "      <td>1</td>\n",
              "      <td>0</td>\n",
              "      <td>2</td>\n",
              "      <td>180000</td>\n",
              "      <td>63.0</td>\n",
              "      <td>0</td>\n",
              "      <td>0</td>\n",
              "      <td>0</td>\n",
              "      <td>0</td>\n",
              "      <td>0</td>\n",
              "      <td>...</td>\n",
              "      <td>52991.51</td>\n",
              "      <td>2086.94</td>\n",
              "      <td>2199.99</td>\n",
              "      <td>1845.66</td>\n",
              "      <td>2000.35</td>\n",
              "      <td>1923.00</td>\n",
              "      <td>1999.78</td>\n",
              "      <td>50422.00</td>\n",
              "      <td>0.04</td>\n",
              "      <td>0</td>\n",
              "    </tr>\n",
              "    <tr>\n",
              "      <th>3</th>\n",
              "      <td>1</td>\n",
              "      <td>1</td>\n",
              "      <td>2</td>\n",
              "      <td>210000</td>\n",
              "      <td>43.0</td>\n",
              "      <td>0</td>\n",
              "      <td>0</td>\n",
              "      <td>0</td>\n",
              "      <td>0</td>\n",
              "      <td>0</td>\n",
              "      <td>...</td>\n",
              "      <td>76945.47</td>\n",
              "      <td>3348.07</td>\n",
              "      <td>3380.91</td>\n",
              "      <td>3400.45</td>\n",
              "      <td>2683.97</td>\n",
              "      <td>2744.00</td>\n",
              "      <td>2892.10</td>\n",
              "      <td>86229.50</td>\n",
              "      <td>0.04</td>\n",
              "      <td>0</td>\n",
              "    </tr>\n",
              "    <tr>\n",
              "      <th>4</th>\n",
              "      <td>2</td>\n",
              "      <td>0</td>\n",
              "      <td>1</td>\n",
              "      <td>280000</td>\n",
              "      <td>32.0</td>\n",
              "      <td>-2</td>\n",
              "      <td>-2</td>\n",
              "      <td>-2</td>\n",
              "      <td>-2</td>\n",
              "      <td>-2</td>\n",
              "      <td>...</td>\n",
              "      <td>1.35</td>\n",
              "      <td>999.78</td>\n",
              "      <td>3186.27</td>\n",
              "      <td>45027.78</td>\n",
              "      <td>2100.09</td>\n",
              "      <td>0.01</td>\n",
              "      <td>0.27</td>\n",
              "      <td>11814.33</td>\n",
              "      <td>0.72</td>\n",
              "      <td>0</td>\n",
              "    </tr>\n",
              "  </tbody>\n",
              "</table>\n",
              "<p>5 rows × 26 columns</p>\n",
              "</div>"
            ],
            "text/plain": [
              "   marriage  sex  education  LIMIT_BAL   age  pay_1  pay_2  pay_3  pay_4  \\\n",
              "0         2    0          2      60000  25.0      2      2      2      0   \n",
              "1         2    1          1     290000  24.0      0      0     -2     -2   \n",
              "2         1    0          2     180000  63.0      0      0      0      0   \n",
              "3         1    1          2     210000  43.0      0      0      0      0   \n",
              "4         2    0          1     280000  32.0     -2     -2     -2     -2   \n",
              "\n",
              "   pay_5  ...  Bill_amt6  pay_amt1  pay_amt2  pay_amt3  pay_amt4  pay_amt5  \\\n",
              "0      0  ...   20750.63   2000.21      0.00   1134.85   1821.78   1500.03   \n",
              "1     -1  ...    1350.30      0.00      0.17      0.00   2700.10      0.00   \n",
              "2      0  ...   52991.51   2086.94   2199.99   1845.66   2000.35   1923.00   \n",
              "3      0  ...   76945.47   3348.07   3380.91   3400.45   2683.97   2744.00   \n",
              "4     -2  ...       1.35    999.78   3186.27  45027.78   2100.09      0.01   \n",
              "\n",
              "   pay_amt6  AVG_Bill_amt  PAY_TO_BILL_ratio  next_month_default  \n",
              "0   1500.24      41511.50               0.03                   0  \n",
              "1   1349.72       2534.50               0.27                   0  \n",
              "2   1999.78      50422.00               0.04                   0  \n",
              "3   2892.10      86229.50               0.04                   0  \n",
              "4      0.27      11814.33               0.72                   0  \n",
              "\n",
              "[5 rows x 26 columns]"
            ]
          },
          "execution_count": 109,
          "metadata": {},
          "output_type": "execute_result"
        }
      ],
      "source": [
        "df_credit.head()"
      ]
    },
    {
      "cell_type": "code",
      "execution_count": 110,
      "metadata": {
        "colab": {
          "base_uri": "https://localhost:8080/"
        },
        "id": "X4QQqJyetQsR",
        "outputId": "e0429b66-30a5-422d-9829-22c8b7b2c1fc"
      },
      "outputs": [
        {
          "name": "stdout",
          "output_type": "stream",
          "text": [
            "education\n",
            "2    11717\n",
            "1     8988\n",
            "3     4115\n",
            "5      253\n",
            "4      116\n",
            "6       44\n",
            "0       14\n",
            "Name: count, dtype: int64\n",
            "marriage\n",
            "2    13441\n",
            "1    11480\n",
            "3      273\n",
            "0       53\n",
            "Name: count, dtype: int64\n"
          ]
        }
      ],
      "source": [
        "#Removing Unwanted categorical levels as given in the problem statement\n",
        "#For education 1-graduation school 2-university school 3-high school 4-others\n",
        "#for marriage 1-married 2-single 3-others\n",
        "print(df_credit['education'].value_counts())\n",
        "print(df_credit['marriage'].value_counts())"
      ]
    },
    {
      "cell_type": "code",
      "execution_count": 111,
      "metadata": {
        "id": "CWLusHrNtbi8"
      },
      "outputs": [],
      "source": [
        "# necessary mapping is done to convert other categories to suitable ones\n",
        "df_credit[\"education\"]=df_credit[\"education\"].map({0:4,1:1,2:2,3:3,4:4,5:4,6:4})\n",
        "df_credit[\"marriage\"]=df_credit[\"marriage\"].map({0:3,1:1,2:2,3:3})"
      ]
    },
    {
      "cell_type": "code",
      "execution_count": 112,
      "metadata": {
        "colab": {
          "base_uri": "https://localhost:8080/"
        },
        "id": "QM6zmFAsi64Q",
        "outputId": "14e00cf0-7247-4a99-8224-eae3550507f7"
      },
      "outputs": [
        {
          "name": "stdout",
          "output_type": "stream",
          "text": [
            "education\n",
            "2    11717\n",
            "1     8988\n",
            "3     4115\n",
            "4      427\n",
            "Name: count, dtype: int64\n",
            "marriage\n",
            "2    13441\n",
            "1    11480\n",
            "3      326\n",
            "Name: count, dtype: int64\n"
          ]
        }
      ],
      "source": [
        "print(df_credit['education'].value_counts())\n",
        "print(df_credit['marriage'].value_counts())# hence the values are successfully changed"
      ]
    },
    {
      "cell_type": "markdown",
      "metadata": {
        "id": "PUTmFH0ar8TG"
      },
      "source": [
        "**Using standard sklearn libraries, Only doing EDA on Training data after split of 80:20**"
      ]
    },
    {
      "cell_type": "code",
      "execution_count": 113,
      "metadata": {
        "id": "6ttJ57tut5w7"
      },
      "outputs": [],
      "source": [
        "from sklearn.preprocessing import StandardScaler\n",
        "from sklearn.compose import ColumnTransformer"
      ]
    },
    {
      "cell_type": "code",
      "execution_count": 114,
      "metadata": {
        "colab": {
          "base_uri": "https://localhost:8080/"
        },
        "id": "HFQBv5q9oIIj",
        "outputId": "96530efd-3725-4b1a-dda6-eb345f38a5be"
      },
      "outputs": [
        {
          "name": "stdout",
          "output_type": "stream",
          "text": [
            "Index(['marriage', 'sex', 'education', 'LIMIT_BAL', 'age', 'pay_1', 'pay_2',\n",
            "       'pay_3', 'pay_4', 'pay_5', 'pay_6', 'Bill_amt1', 'Bill_amt2',\n",
            "       'Bill_amt3', 'Bill_amt4', 'Bill_amt5', 'Bill_amt6', 'pay_amt1',\n",
            "       'pay_amt2', 'pay_amt3', 'pay_amt4', 'pay_amt5', 'pay_amt6',\n",
            "       'AVG_Bill_amt', 'PAY_TO_BILL_ratio'],\n",
            "      dtype='object')\n"
          ]
        }
      ],
      "source": [
        "X=df_credit.drop(['next_month_default'],axis=1)\n",
        "print(X.columns)"
      ]
    },
    {
      "cell_type": "code",
      "execution_count": 115,
      "metadata": {
        "id": "tL0AbTeEuEZ1"
      },
      "outputs": [],
      "source": [
        "# List of numerical columns to scale\n",
        "numerical_cols = [\n",
        "    'LIMIT_BAL', 'age',\n",
        "    'Bill_amt1', 'Bill_amt2', 'Bill_amt3', 'Bill_amt4', 'Bill_amt5', 'Bill_amt6',\n",
        "    'pay_amt1', 'pay_amt2', 'pay_amt3', 'pay_amt4', 'pay_amt5', 'pay_amt6',\n",
        "    'AVG_Bill_amt',\n",
        "    'PAY_TO_BILL_ratio'\n",
        "]\n",
        "\n",
        "# Creating a preprocessor that only scales numerical columns\n",
        "preprocessor = ColumnTransformer(\n",
        "    transformers=[\n",
        "        ('num', StandardScaler(), numerical_cols)\n",
        "    ],\n",
        "    remainder='passthrough'\n",
        "    # Leaving one-hot encoded columns unchanged\n",
        ")\n",
        "\n",
        "# Fit and transform the data\n",
        "X_scaled = preprocessor.fit_transform(X)"
      ]
    },
    {
      "cell_type": "code",
      "execution_count": 116,
      "metadata": {
        "colab": {
          "base_uri": "https://localhost:8080/"
        },
        "id": "4lqDntRquE-b",
        "outputId": "b0c453c9-82b2-4129-8a92-4e7637cc394c"
      },
      "outputs": [
        {
          "data": {
            "text/plain": [
              "array([-0.83410488, -1.13770129,  0.12495635,  0.1645961 ,  0.13797812,\n",
              "       -0.22762808, -0.29852452, -0.30508781, -0.2212485 , -0.25187706,\n",
              "       -0.23270059, -0.19051373, -0.21479497, -0.20991996, -0.05329919,\n",
              "       -0.06597086,  2.        ,  0.        ,  2.        ,  2.        ,\n",
              "        2.        ,  2.        ,  0.        ,  0.        ,  0.        ])"
            ]
          },
          "execution_count": 116,
          "metadata": {},
          "output_type": "execute_result"
        }
      ],
      "source": [
        "X_scaled[0]"
      ]
    },
    {
      "cell_type": "code",
      "execution_count": 117,
      "metadata": {
        "id": "kpKkPyMSuPKS"
      },
      "outputs": [],
      "source": [
        "y=df_credit['next_month_default']"
      ]
    },
    {
      "cell_type": "code",
      "execution_count": 118,
      "metadata": {
        "id": "jremd4oqyaRN"
      },
      "outputs": [],
      "source": [
        "# Split dataset into training and testing sets\n",
        "X_train, X_test, y_train, y_test = train_test_split(X_scaled, y, test_size=0.2, random_state=42)"
      ]
    },
    {
      "cell_type": "markdown",
      "metadata": {
        "id": "EJQIaPfyDPKU"
      },
      "source": [
        "**Exploratory Data Analysis- Firstly Correlation Plot**"
      ]
    },
    {
      "cell_type": "code",
      "execution_count": 119,
      "metadata": {
        "colab": {
          "base_uri": "https://localhost:8080/",
          "height": 927
        },
        "id": "oqBIjsl8kgeJ",
        "outputId": "69afb333-c7c1-4ca5-d101-036716dfb6d8"
      },
      "outputs": [
        {
          "data": {
            "image/png": "[encoded data removed]",
            "text/plain": [
              "<Figure size 1400x1000 with 2 Axes>"
            ]
          },
          "metadata": {},
          "output_type": "display_data"
        }
      ],
      "source": [
        "import matplotlib.pyplot as plt\n",
        "from scipy.stats import pointbiserialr\n",
        "import seaborn as sns\n",
        "import pandas as pd\n",
        "\n",
        "# Use original column names33\n",
        "feature_cols = [\n",
        "    'marriage', 'sex', 'education', 'LIMIT_BAL', 'age',\n",
        "    'pay_1', 'pay_2', 'pay_3', 'pay_4', 'pay_5', 'pay_6',\n",
        "    'Bill_amt1', 'Bill_amt2', 'Bill_amt3', 'Bill_amt4', 'Bill_amt5', 'Bill_amt6',\n",
        "    'pay_amt1', 'pay_amt2', 'pay_amt3', 'pay_amt4', 'pay_amt5', 'pay_amt6',\n",
        "    'AVG_Bill_amt', 'PAY_TO_BILL_ratio'\n",
        "]\n",
        "\n",
        "\n",
        "# Define only numerical columns\n",
        "numerical_cols = [\n",
        "    'LIMIT_BAL', 'age',\n",
        "    'Bill_amt1', 'Bill_amt2', 'Bill_amt3', 'Bill_amt4', 'Bill_amt5', 'Bill_amt6',\n",
        "    'pay_amt1', 'pay_amt2', 'pay_amt3', 'pay_amt4', 'pay_amt5', 'pay_amt6',\n",
        "    'AVG_Bill_amt', 'PAY_TO_BILL_ratio'\n",
        "]\n",
        "y_series = pd.Series(y_train.flatten() if isinstance(y_train, np.ndarray) else y_train)\n",
        "\n",
        "# Convert to DataFrame with correct columns\n",
        "X_train_df = pd.DataFrame(X_train, columns=feature_cols)\n",
        "# Plot correlation matrix\n",
        "plt.figure(figsize=(14, 10))\n",
        "sns.heatmap(X_train_df.corr(), annot=False, cmap='coolwarm', center=0)\n",
        "plt.title(\"Correlation Heatmap of Features\")\n",
        "plt.show()\n",
        "\n"
      ]
    },
    {
      "cell_type": "markdown",
      "metadata": {
        "id": "WD7wCVQnyGrY"
      },
      "source": [
        "**Doing Hypothesis Testing for Statistical Significance , Also tried with PCA, With PCA (no such Significant Outcome)**"
      ]
    },
    {
      "cell_type": "markdown",
      "metadata": {
        "id": "8XwFcGcYez3N"
      },
      "source": [
        "***Feature Engineering- As mentioned in Problem statement exploring other two features which may act as important for decision making***"
      ]
    },
    {
      "cell_type": "code",
      "execution_count": 78,
      "metadata": {
        "colab": {
          "base_uri": "https://localhost:8080/"
        },
        "id": "rZpBYUAUlbt-",
        "outputId": "b0720aae-f307-4199-b29b-c450ee427f38"
      },
      "outputs": [
        {
          "name": "stdout",
          "output_type": "stream",
          "text": [
            "=== Hypothesis Testing for Numerical Features (Point-Biserial) ===\n",
            "LIMIT_BAL: r = -0.0171, p-value = 0.0156\n",
            "age: r = -0.0175, p-value = 0.0129\n",
            "Bill_amt1: r = -0.0521, p-value = 0.0000\n",
            "Bill_amt2: r = -0.0498, p-value = 0.0000\n",
            "Bill_amt3: r = -0.0498, p-value = 0.0000\n",
            "Bill_amt4: r = -0.0154, p-value = 0.0288\n",
            "Bill_amt5: r = -0.0046, p-value = 0.5131\n",
            "Bill_amt6: r = -0.0349, p-value = 0.0000\n",
            "pay_amt1: r = -0.0372, p-value = 0.0000\n",
            "pay_amt2: r = 0.0335, p-value = 0.0000\n",
            "pay_amt3: r = 0.3110, p-value = 0.0000\n",
            "pay_amt4: r = 0.2533, p-value = 0.0000\n",
            "pay_amt5: r = 0.2287, p-value = 0.0000\n",
            "pay_amt6: r = 0.2083, p-value = 0.0000\n",
            "AVG_Bill_amt: r = 0.1975, p-value = 0.0000\n",
            "PAY_TO_BILL_ratio: r = -0.0244, p-value = 0.0005\n",
            "AVG_PAYMENT_DELAY: r = -0.0486, p-value = 0.0000\n",
            "UTILIZATION_RATIO: r = -0.0007, p-value = 0.9204\n",
            "\n",
            "🚫 Insignificant Features (p > 0.05):\n",
            "['Bill_amt5', 'UTILIZATION_RATIO']\n"
          ]
        }
      ],
      "source": [
        "\n",
        "# Define bill and payment amount columns\n",
        "bill_cols = [f'Bill_amt{i}' for i in range(1, 7)]\n",
        "pay_cols = [f'pay_amt{i}' for i in range(1, 7)]\n",
        "\n",
        "\n",
        "# PAY_TO_BILL_ratio = Total payment / Total bill\n",
        "X_train_df['PAY_TO_BILL_ratio'] = X_train_df[pay_cols].sum(axis=1) / (X_train_df[bill_cols].sum(axis=1) + 1e-9)\n",
        "\n",
        "# Define payment status columns (named in lowercase in your df: pay_1, pay_2, ...)\n",
        "pay_status_cols = [f'pay_{i}' for i in range(1, 7)]\n",
        "\n",
        "# Max delay across 6 months\n",
        "X_train_df['MAX_PAYMENT_DELAY'] = X_train_df[pay_status_cols].max(axis=1)\n",
        "\n",
        "# Average delay (replacing -2 with 0, which means treated as no delay)\n",
        "X_train_df['AVG_PAYMENT_DELAY'] = X_train_df[pay_status_cols].replace(-2, 0).mean(axis=1)\n",
        "X_train_df['CONSISTENT_REPAYER'] = X_train_df[pay_status_cols].apply(lambda row: (row <= 0).sum(), axis=1)\n",
        "X_train_df['UTILIZATION_RATIO'] = X_train_df['AVG_Bill_amt'] / (X_train_df['LIMIT_BAL'] + 1e-9)\n",
        "\n",
        "# Define only numerical columns\n",
        "numerical_cols = [\n",
        "    'LIMIT_BAL', 'age',\n",
        "    'Bill_amt1', 'Bill_amt2', 'Bill_amt3', 'Bill_amt4', 'Bill_amt5', 'Bill_amt6',\n",
        "    'pay_amt1', 'pay_amt2', 'pay_amt3', 'pay_amt4', 'pay_amt5', 'pay_amt6',\n",
        "    'AVG_Bill_amt', 'PAY_TO_BILL_ratio','AVG_PAYMENT_DELAY',\n",
        "    'UTILIZATION_RATIO'\n",
        "]\n",
        "\n",
        "\n",
        "\n",
        "# Perform point-biserial correlation test\n",
        "print(\"=== Hypothesis Testing for Numerical Features (Point-Biserial) ===\")\n",
        "insignificant_cols = []\n",
        "\n",
        "for col in numerical_cols:\n",
        "    r, p = pointbiserialr(X_train_df[col], y_series)\n",
        "    print(f\"{col}: r = {r:.4f}, p-value = {p:.4f}\")\n",
        "    if p > 0.05:\n",
        "        insignificant_cols.append(col)\n",
        "\n",
        "print(\"\\n🚫 Insignificant Features (p > 0.05):\")\n",
        "print(insignificant_cols)"
      ]
    },
    {
      "cell_type": "markdown",
      "metadata": {
        "id": "ffXtHa6Sybg9"
      },
      "source": [
        "**Some Plots**"
      ]
    },
    {
      "cell_type": "code",
      "execution_count": 79,
      "metadata": {
        "colab": {
          "base_uri": "https://localhost:8080/",
          "height": 472
        },
        "id": "OJVIvE3Pn2rd",
        "outputId": "bcdc3973-29de-4634-d3ba-850a7c3873cf"
      },
      "outputs": [
        {
          "data": {
            "image/png": "[encoded data removed]",
            "text/plain": [
              "<Figure size 640x480 with 1 Axes>"
            ]
          },
          "metadata": {},
          "output_type": "display_data"
        }
      ],
      "source": [
        "sns.boxplot(x=y_train, y='AVG_PAYMENT_DELAY', data=X_train_df)\n",
        "plt.title(\"Avg Payment Delay vs Default\")\n",
        "plt.show()\n"
      ]
    },
    {
      "cell_type": "code",
      "execution_count": 80,
      "metadata": {
        "colab": {
          "base_uri": "https://localhost:8080/",
          "height": 472
        },
        "id": "vQOglIcTpaOC",
        "outputId": "af904fbf-dfc6-43c8-8a05-4f2c3e046914"
      },
      "outputs": [
        {
          "data": {
            "image/png": "[encoded data removed]",
            "text/plain": [
              "<Figure size 640x480 with 1 Axes>"
            ]
          },
          "metadata": {},
          "output_type": "display_data"
        }
      ],
      "source": [
        "sns.boxplot(x=y_train, y='UTILIZATION_RATIO', data=X_train_df)\n",
        "plt.title(\"Credit Utilization vs Default\")\n",
        "plt.show()\n"
      ]
    },
    {
      "cell_type": "markdown",
      "metadata": {
        "id": "j9OH8uGqygMF"
      },
      "source": [
        "**Have to drop two columns mentioned in hypothesis testing**"
      ]
    },
    {
      "cell_type": "code",
      "execution_count": 81,
      "metadata": {
        "colab": {
          "base_uri": "https://localhost:8080/"
        },
        "id": "Bsazmz20qmXC",
        "outputId": "62418fa4-a833-4a0c-fed8-2bbf72dd8849"
      },
      "outputs": [
        {
          "name": "stdout",
          "output_type": "stream",
          "text": [
            "Index(['marriage', 'sex', 'education', 'LIMIT_BAL', 'age', 'pay_1', 'pay_2',\n",
            "       'pay_3', 'pay_4', 'pay_5', 'pay_6', 'Bill_amt1', 'Bill_amt2',\n",
            "       'Bill_amt3', 'Bill_amt4', 'Bill_amt5', 'Bill_amt6', 'pay_amt1',\n",
            "       'pay_amt2', 'pay_amt3', 'pay_amt4', 'pay_amt5', 'pay_amt6',\n",
            "       'AVG_Bill_amt', 'PAY_TO_BILL_ratio', 'MAX_PAYMENT_DELAY',\n",
            "       'AVG_PAYMENT_DELAY', 'CONSISTENT_REPAYER', 'UTILIZATION_RATIO'],\n",
            "      dtype='object')\n"
          ]
        }
      ],
      "source": [
        "print(X_train_df.columns)\n",
        "## drop 'Bill_amt5' and  'UTILIZATION_RATIO'"
      ]
    },
    {
      "cell_type": "markdown",
      "metadata": {
        "id": "UI_UP-Neo5Lx"
      },
      "source": [
        "**Checking Class imbalance after removing any null values in training data**"
      ]
    },
    {
      "cell_type": "code",
      "execution_count": 82,
      "metadata": {
        "colab": {
          "base_uri": "https://localhost:8080/",
          "height": 178
        },
        "id": "r_YpWh-lpy0h",
        "outputId": "8eeb33d4-7759-44f2-f5c1-be08f9d7c37b"
      },
      "outputs": [
        {
          "data": {
            "text/plain": [
              "next_month_default\n",
              "0    16289\n",
              "1     3807\n",
              "Name: count, dtype: int64"
            ]
          },
          "execution_count": 82,
          "metadata": {},
          "output_type": "execute_result"
        }
      ],
      "source": [
        "y_train.value_counts() # hence there is a class imbalance which may lead to poor results when the customer is defaulted\n",
        "# Hence i am applying SMOTH(synthetic minority Oversampling technique)"
      ]
    },
    {
      "cell_type": "markdown",
      "metadata": {
        "id": "jN9PfCMFhunM"
      },
      "source": [
        "**Data Pre-processing Pipeline , So that it can be easily fitted and used for validation dataset assuming similar type of distributions on both unseen, validation and training data for a ML Problem**"
      ]
    },
    {
      "cell_type": "code",
      "execution_count": 83,
      "metadata": {
        "id": "PdPni8QifcCk"
      },
      "outputs": [],
      "source": [
        "from sklearn.pipeline import Pipeline\n",
        "from sklearn.preprocessing import StandardScaler, FunctionTransformer\n",
        "from sklearn.compose import ColumnTransformer\n",
        "import pandas as pd\n",
        "import numpy as np\n",
        "\n",
        "# Step 1: Define column groups\n",
        "bill_cols = [f'Bill_amt{i}' for i in range(1, 7)]\n",
        "pay_cols = [f'pay_amt{i}' for i in range(1, 7) if i != 5]\n",
        "#dropping pay_amt[5]\n",
        "pay_status_cols = [f'pay_{i}' for i in range(1, 7)]\n",
        "\n",
        "# Original numerical columns (before feature engineering)\n",
        "base_numerical_cols = [\n",
        "    'LIMIT_BAL', 'age'\n",
        "] + bill_cols + pay_cols + ['AVG_Bill_amt']\n",
        "\n",
        "# Engineered columns to scale\n",
        "engineered_cols = [\n",
        "    'PAY_TO_BILL_ratio',\n",
        "    'MAX_PAYMENT_DELAY',\n",
        "    'AVG_PAYMENT_DELAY',\n",
        "    'CONSISTENT_REPAYER',\n",
        "    ## dropping this 'UTILIZATION_RATIO'\n",
        "]\n",
        "\n",
        "# Combined columns for scaling\n",
        "numerical_cols_to_scale = base_numerical_cols + engineered_cols\n",
        "\n",
        "# Step 2: Feature Engineering Function\n",
        "def add_custom_features(X):\n",
        "    X = X.copy()\n",
        "\n",
        "    # PAY_TO_BILL_ratio\n",
        "    X['PAY_TO_BILL_ratio'] = X[pay_cols].sum(axis=1) / (X[bill_cols].sum(axis=1) + 1e-9)\n",
        "\n",
        "    # MAX_PAYMENT_DELAY\n",
        "    X['MAX_PAYMENT_DELAY'] = X[pay_status_cols].max(axis=1)\n",
        "\n",
        "    # AVG_PAYMENT_DELAY\n",
        "    X['AVG_PAYMENT_DELAY'] = X[pay_status_cols].replace(-2, 0).mean(axis=1)\n",
        "\n",
        "    # CONSISTENT_REPAYER\n",
        "    X['CONSISTENT_REPAYER'] = X[pay_status_cols].apply(lambda row: (row <= 0).sum(), axis=1)\n",
        "\n",
        "    # UTILIZATION_RATIO\n",
        "    X['UTILIZATION_RATIO'] = X['AVG_Bill_amt'] / (X['LIMIT_BAL'] + 1e-9)\n",
        "\n",
        "    return X\n",
        "\n",
        "# Step 3: Defining transformers\n",
        "feature_engineering = FunctionTransformer(add_custom_features)\n",
        "\n",
        "scaler = ColumnTransformer(\n",
        "    transformers=[\n",
        "        ('scale_num', StandardScaler(), numerical_cols_to_scale)\n",
        "    ],\n",
        "    remainder='passthrough'\n",
        "    # Keeping other features like categorical or binary\n",
        ")\n",
        "\n",
        "# Step 4: Full pipeline\n",
        "preprocessing_pipeline = Pipeline(steps=[\n",
        "    ('feature_engineering', feature_engineering),\n",
        "    ('scaling', scaler)\n",
        "])\n"
      ]
    },
    {
      "cell_type": "markdown",
      "metadata": {
        "id": "osCVz31AiegK"
      },
      "source": [
        "**Pre-processed Data**"
      ]
    },
    {
      "cell_type": "code",
      "execution_count": 84,
      "metadata": {
        "id": "dKjDs12lfdsD"
      },
      "outputs": [],
      "source": [
        "#dropped those two columns in pipeline\n",
        "X_train_processed = preprocessing_pipeline.fit_transform(X_train_df)\n"
      ]
    },
    {
      "cell_type": "code",
      "execution_count": 85,
      "metadata": {
        "colab": {
          "base_uri": "https://localhost:8080/"
        },
        "id": "dF4Urp6wQeRE",
        "outputId": "587c4f74-5043-4463-91be-b37b0f149994"
      },
      "outputs": [
        {
          "data": {
            "text/plain": [
              "(20096, 29)"
            ]
          },
          "execution_count": 85,
          "metadata": {},
          "output_type": "execute_result"
        }
      ],
      "source": [
        "X_train_processed.shape"
      ]
    },
    {
      "cell_type": "markdown",
      "metadata": {
        "id": "x2mcmptruKpW"
      },
      "source": [
        "#Class Imbalance (Applying Synthetic Minority Oversampling technique)"
      ]
    },
    {
      "cell_type": "code",
      "execution_count": 86,
      "metadata": {
        "id": "tBapx2mhyxwC"
      },
      "outputs": [],
      "source": [
        "from imblearn.over_sampling import SMOTE\n",
        "smote = SMOTE(random_state=42)\n",
        "X_resampled_smote, y_resampled_smote = smote.fit_resample(X_train_processed, y_train)"
      ]
    },
    {
      "cell_type": "code",
      "execution_count": 87,
      "metadata": {
        "colab": {
          "base_uri": "https://localhost:8080/"
        },
        "id": "QUZZIT8Nprn5",
        "outputId": "406b9bdd-d0b7-4be6-deb5-6f73a62ca5f9"
      },
      "outputs": [
        {
          "name": "stdout",
          "output_type": "stream",
          "text": [
            "next_month_default\n",
            "1    16289\n",
            "0    16289\n",
            "Name: count, dtype: int64\n"
          ]
        },
        {
          "data": {
            "text/plain": [
              "(32578, 29)"
            ]
          },
          "execution_count": 87,
          "metadata": {},
          "output_type": "execute_result"
        }
      ],
      "source": [
        "print(y_resampled_smote.value_counts())\n",
        "X_resampled_smote.shape"
      ]
    },
    {
      "cell_type": "markdown",
      "metadata": {
        "id": "_QMGbaa3t06m"
      },
      "source": [
        "#Model training via assigning best threshold , Tradeoff between Recall and (Accuracy and Precision). As F2-Score gives more priority to Recall which we want to maximize but balancing a minimum precision/Accuracy"
      ]
    },
    {
      "cell_type": "code",
      "execution_count": 88,
      "metadata": {},
      "outputs": [
        {
          "name": "stdout",
          "output_type": "stream",
          "text": [
            "Training Logistic Regression...\n",
            "Training Decision Tree...\n",
            "Training Random Forest...\n",
            "Training XGBoost...\n"
          ]
        },
        {
          "name": "stderr",
          "output_type": "stream",
          "text": [
            "c:\\Users\\karth\\anaconda3\\Lib\\site-packages\\xgboost\\training.py:183: UserWarning: [21:26:57] WARNING: C:\\actions-runner\\_work\\xgboost\\xgboost\\src\\learner.cc:738: \n",
            "Parameters: { \"use_label_encoder\" } are not used.\n",
            "\n",
            "  bst.update(dtrain, iteration=i, fobj=obj)\n"
          ]
        },
        {
          "name": "stdout",
          "output_type": "stream",
          "text": [
            "Training LightGBM...\n",
            "[LightGBM] [Info] Number of positive: 13031, number of negative: 13031\n",
            "[LightGBM] [Info] Auto-choosing col-wise multi-threading, the overhead of testing was 0.003635 seconds.\n",
            "You can set `force_col_wise=true` to remove the overhead.\n",
            "[LightGBM] [Info] Total Bins 7327\n",
            "[LightGBM] [Info] Number of data points in the train set: 26062, number of used features: 29\n",
            "[LightGBM] [Info] [binary:BoostFromScore]: pavg=0.500000 -> initscore=0.000000\n",
            "\n",
            "=== Model Comparison ===\n",
            "                     Accuracy  Precision    Recall  F1 Score  F2 Score  \\\n",
            "Random Forest        0.889656   0.901868  0.874463  0.887954  0.879810   \n",
            "XGBoost              0.888582   0.917271  0.854205  0.884615  0.866115   \n",
            "LightGBM             0.887508   0.922382  0.846225  0.882664  0.860433   \n",
            "Decision Tree        0.819061   0.816631  0.822897  0.819752  0.821637   \n",
            "Logistic Regression  0.686157   0.694828  0.663904  0.679014  0.669867   \n",
            "\n",
            "                      ROC-AUC  \n",
            "Random Forest        0.956432  \n",
            "XGBoost              0.946502  \n",
            "LightGBM             0.943584  \n",
            "Decision Tree        0.819061  \n",
            "Logistic Regression  0.755098  \n"
          ]
        },
        {
          "name": "stderr",
          "output_type": "stream",
          "text": [
            "c:\\Users\\karth\\anaconda3\\Lib\\site-packages\\sklearn\\utils\\validation.py:2739: UserWarning: X does not have valid feature names, but LGBMClassifier was fitted with feature names\n",
            "  warnings.warn(\n",
            "c:\\Users\\karth\\anaconda3\\Lib\\site-packages\\sklearn\\utils\\validation.py:2739: UserWarning: X does not have valid feature names, but LGBMClassifier was fitted with feature names\n",
            "  warnings.warn(\n"
          ]
        }
      ],
      "source": [
        "from sklearn.linear_model import LogisticRegression\n",
        "from sklearn.tree import DecisionTreeClassifier\n",
        "from sklearn.ensemble import RandomForestClassifier\n",
        "from xgboost import XGBClassifier\n",
        "from lightgbm import LGBMClassifier\n",
        "from sklearn.metrics import (\n",
        "    accuracy_score, precision_score, recall_score, f1_score, fbeta_score, roc_auc_score\n",
        ")\n",
        "from sklearn.model_selection import train_test_split\n",
        "from imblearn.over_sampling import SMOTE\n",
        "import pandas as pd\n",
        "\n",
        "# Define models\n",
        "models = {\n",
        "    'Logistic Regression': LogisticRegression(max_iter=1000, random_state=42),\n",
        "    'Decision Tree': DecisionTreeClassifier(random_state=42),\n",
        "    'Random Forest': RandomForestClassifier(n_estimators=100, random_state=42),\n",
        "    'XGBoost': XGBClassifier(use_label_encoder=False, eval_metric='logloss', random_state=42),\n",
        "    'LightGBM': LGBMClassifier(class_weight='balanced', random_state=42)\n",
        "}\n",
        "\n",
        "# Train-test split\n",
        "X_train_split, X_test_split, y_train_split, y_test_split = train_test_split(\n",
        "    X_resampled_smote, y_resampled_smote, test_size=0.2, stratify=y_resampled_smote, random_state=42\n",
        ")\n",
        "\n",
        "# Evaluation function\n",
        "def evaluate_model(model, X_train, y_train, X_test, y_test, beta=2):\n",
        "    model.fit(X_train, y_train)\n",
        "    y_pred = model.predict(X_test)\n",
        "    y_proba = model.predict_proba(X_test)[:, 1] if hasattr(model, 'predict_proba') else None\n",
        "    \n",
        "    return {\n",
        "        'Accuracy': accuracy_score(y_test, y_pred),\n",
        "        'Precision': precision_score(y_test, y_pred),\n",
        "        'Recall': recall_score(y_test, y_pred),\n",
        "        'F1 Score': f1_score(y_test, y_pred),\n",
        "        'F2 Score': fbeta_score(y_test, y_pred, beta=beta),\n",
        "        'ROC-AUC': roc_auc_score(y_test, y_proba) if y_proba is not None else 'N/A'\n",
        "    }\n",
        "\n",
        "# Run and collect results\n",
        "results = {}\n",
        "for name, model in models.items():\n",
        "    print(f\"Training {name}...\")\n",
        "    metrics = evaluate_model(model, X_train_split, y_train_split, X_test_split, y_test_split)\n",
        "    results[name] = metrics\n",
        "\n",
        "# Show results\n",
        "results_df = pd.DataFrame(results).T.sort_values(by='F2 Score', ascending=False)\n",
        "print(\"\\n=== Model Comparison ===\")\n",
        "print(results_df)\n"
      ]
    },
    {
      "cell_type": "code",
      "execution_count": 89,
      "metadata": {},
      "outputs": [
        {
          "name": "stdout",
          "output_type": "stream",
          "text": [
            "[LightGBM] [Info] Number of positive: 13031, number of negative: 13031\n",
            "[LightGBM] [Info] Auto-choosing col-wise multi-threading, the overhead of testing was 0.002921 seconds.\n",
            "You can set `force_col_wise=true` to remove the overhead.\n",
            "[LightGBM] [Info] Total Bins 7327\n",
            "[LightGBM] [Info] Number of data points in the train set: 26062, number of used features: 29\n",
            "[LightGBM] [Info] [binary:BoostFromScore]: pavg=0.500000 -> initscore=0.000000\n"
          ]
        },
        {
          "name": "stderr",
          "output_type": "stream",
          "text": [
            "c:\\Users\\karth\\anaconda3\\Lib\\site-packages\\sklearn\\utils\\validation.py:2739: UserWarning: X does not have valid feature names, but LGBMClassifier was fitted with feature names\n",
            "  warnings.warn(\n"
          ]
        },
        {
          "data": {
            "image/png": "[encoded data removed]",
            "text/plain": [
              "<Figure size 1000x600 with 1 Axes>"
            ]
          },
          "metadata": {},
          "output_type": "display_data"
        }
      ],
      "source": [
        "import matplotlib.pyplot as plt\n",
        "import numpy as np\n",
        "from sklearn.metrics import (\n",
        "    precision_recall_curve, fbeta_score, accuracy_score, precision_score, recall_score\n",
        ")\n",
        "from sklearn.model_selection import train_test_split\n",
        "from lightgbm import LGBMClassifier\n",
        "\n",
        "# Step 1: Train-test split\n",
        "X_train, X_test, y_train, y_test = train_test_split(\n",
        "    X_resampled_smote, y_resampled_smote, test_size=0.2, random_state=42, stratify=y_resampled_smote\n",
        ")\n",
        "\n",
        "# Step 2: Train LightGBM model\n",
        "model = LGBMClassifier(class_weight='balanced', random_state=42)\n",
        "model.fit(X_train, y_train)\n",
        "\n",
        "# Step 3: Predict probabilities\n",
        "y_proba = model.predict_proba(X_test)[:, 1]\n",
        "\n",
        "# Step 4: Get precision-recall-threshold values\n",
        "precisions, recalls, thresholds = precision_recall_curve(y_test, y_proba)\n",
        "\n",
        "# Trim metrics to match threshold size\n",
        "precisions = precisions[:-1]\n",
        "recalls = recalls[:-1]\n",
        "\n",
        "# F2 Score Calculation\n",
        "beta = 2\n",
        "f2_scores = (1 + beta**2) * (precisions * recalls) / (beta**2 * precisions + recalls + 1e-9)\n",
        "\n",
        "# Accuracy Calculation\n",
        "accuracies = [\n",
        "    accuracy_score(y_test, (y_proba >= t).astype(int))\n",
        "    for t in thresholds\n",
        "]\n",
        "\n",
        "# Step 5: Plot\n",
        "plt.figure(figsize=(10, 6))\n",
        "plt.plot(thresholds, f2_scores, label=\"F2 Score\", color='blue', linewidth=2)\n",
        "plt.plot(thresholds, accuracies, label=\"Accuracy\", color='green', linestyle='--')\n",
        "plt.plot(thresholds, precisions, label=\"Precision\", color='orange', linestyle=':')\n",
        "plt.plot(thresholds, recalls, label=\"Recall\", color='red', linestyle='-.')\n",
        "\n",
        "plt.axvline(x=0.5, color='gray', linestyle=':', label='Default Threshold = 0.5')\n",
        "\n",
        "plt.xlabel(\"Threshold\")\n",
        "plt.ylabel(\"Score\")\n",
        "plt.title(\"Threshold vs F2 Score, Accuracy, Precision & Recall\")\n",
        "plt.legend()\n",
        "plt.grid(True)\n",
        "plt.tight_layout()\n",
        "plt.show()\n"
      ]
    },
    {
      "cell_type": "code",
      "execution_count": 90,
      "metadata": {
        "id": "rkeZg6yDaCrY"
      },
      "outputs": [],
      "source": [
        "import lightgbm as lgb\n",
        "import numpy as np\n",
        "from sklearn.model_selection import train_test_split\n",
        "from sklearn.metrics import (\n",
        "    classification_report, fbeta_score, precision_score,\n",
        "    precision_recall_curve, roc_auc_score\n",
        ")\n",
        "\n",
        "def train_lightgbm_for_f2_and_accuracy(\n",
        "    X, y, beta=2, precision_threshold=0.5, accuracy_threshold=0.855,\n",
        "    test_size=0.2, random_state=42\n",
        "):\n",
        "    # Split data\n",
        "    X_train, X_test, y_train, y_test = train_test_split(\n",
        "        X, y, stratify=y, test_size=test_size, random_state=random_state\n",
        "    )\n",
        "\n",
        "    # Compute scale_pos_weight\n",
        "    neg, pos = np.bincount(y_train)\n",
        "    scale_pos_weight = neg / pos\n",
        "    print(f\"[INFO] scale_pos_weight = {scale_pos_weight:.2f}\")\n",
        "\n",
        "    # Train LightGBM\n",
        "    model = lgb.LGBMClassifier(\n",
        "        objective='binary',\n",
        "        class_weight='balanced',  # handles imbalance internally\n",
        "        n_estimators=100,\n",
        "        max_depth=6,\n",
        "        learning_rate=0.1,\n",
        "        random_state=random_state\n",
        "    )\n",
        "    model.fit(X_train, y_train)\n",
        "\n",
        "    # Predict probabilities\n",
        "    y_proba = model.predict_proba(X_test)[:, 1]\n",
        "\n",
        "    # Precision-recall curve\n",
        "    precisions, recalls, thresholds = precision_recall_curve(y_test, y_proba)\n",
        "\n",
        "    # Compute F-beta scores and accuracies\n",
        "    f2_scores = (1 + beta*2) * (precisions * recalls) / (beta*2 * precisions + recalls + 1e-9)\n",
        "    accuracies = [(y_proba >= t).astype(int).mean() == y_test.mean() for t in thresholds]\n",
        "\n",
        "    # Find best threshold that satisfies both constraints\n",
        "    best_f2 = 0\n",
        "    best_threshold = 0.5  # fallback\n",
        "    for i in range(len(thresholds)):\n",
        "        y_pred_temp = (y_proba >= thresholds[i]).astype(int)\n",
        "        acc = (y_pred_temp == y_test).mean()\n",
        "        if precisions[i] >= precision_threshold and acc >= accuracy_threshold:\n",
        "            if f2_scores[i] > best_f2:\n",
        "                best_f2 = f2_scores[i]\n",
        "                best_threshold = thresholds[i]\n",
        "\n",
        "    print(f\"[INFO] Best Threshold = {best_threshold:.4f}\")\n",
        "    print(f\"[INFO] Best F2 Score = {best_f2:.4f}\")\n",
        "\n",
        "    # Apply threshold\n",
        "    y_pred = (y_proba >= best_threshold).astype(int)\n",
        "\n",
        "    # Final report\n",
        "    print(\"\\n=== Final Classification Report ===\")\n",
        "    print(classification_report(y_test, y_pred))\n",
        "    print(f\"F2 Score: {fbeta_score(y_test, y_pred, beta=beta):.4f}\")\n",
        "    print(f\"Precision: {precision_score(y_test, y_pred):.4f}\")\n",
        "    print(f\"Accuracy: {(y_pred == y_test).mean():.4f}\")\n",
        "    print(f\"ROC-AUC: {roc_auc_score(y_test, y_proba):.4f}\")\n",
        "\n",
        "    return model, best_threshold\n"
      ]
    },
    {
      "cell_type": "markdown",
      "metadata": {
        "id": "6H1kTlW2itIk"
      },
      "source": [
        "**Also printing ROC-AUC value which also acts as a good metric**"
      ]
    },
    {
      "cell_type": "markdown",
      "metadata": {
        "id": "7Oq4LbGRfrIS"
      },
      "source": [
        "**Changing Threshold and maintaining a minimum accuracy of 0.85(85%) to maximize recall, indirectly F2-score**"
      ]
    },
    {
      "cell_type": "code",
      "execution_count": 91,
      "metadata": {
        "colab": {
          "base_uri": "https://localhost:8080/"
        },
        "id": "tO6-edMcaIF2",
        "outputId": "4a42ec09-25df-485f-a24b-ba339fc18ce9"
      },
      "outputs": [
        {
          "name": "stdout",
          "output_type": "stream",
          "text": [
            "[INFO] scale_pos_weight = 1.00\n",
            "[LightGBM] [Info] Number of positive: 13031, number of negative: 13031\n",
            "[LightGBM] [Info] Auto-choosing col-wise multi-threading, the overhead of testing was 0.002912 seconds.\n",
            "You can set `force_col_wise=true` to remove the overhead.\n",
            "[LightGBM] [Info] Total Bins 7327\n",
            "[LightGBM] [Info] Number of data points in the train set: 26062, number of used features: 29\n",
            "[LightGBM] [Info] [binary:BoostFromScore]: pavg=0.500000 -> initscore=0.000000\n",
            "[LightGBM] [Warning] No further splits with positive gain, best gain: -inf\n",
            "[LightGBM] [Warning] No further splits with positive gain, best gain: -inf\n",
            "[LightGBM] [Warning] No further splits with positive gain, best gain: -inf\n",
            "[LightGBM] [Warning] No further splits with positive gain, best gain: -inf\n",
            "[LightGBM] [Warning] No further splits with positive gain, best gain: -inf\n"
          ]
        },
        {
          "name": "stderr",
          "output_type": "stream",
          "text": [
            "c:\\Users\\karth\\anaconda3\\Lib\\site-packages\\sklearn\\utils\\validation.py:2739: UserWarning: X does not have valid feature names, but LGBMClassifier was fitted with feature names\n",
            "  warnings.warn(\n"
          ]
        },
        {
          "name": "stdout",
          "output_type": "stream",
          "text": [
            "[INFO] Best Threshold = 0.3435\n",
            "[INFO] Best F2 Score = 0.8833\n",
            "\n",
            "=== Final Classification Report ===\n",
            "              precision    recall  f1-score   support\n",
            "\n",
            "           0       0.89      0.82      0.85      3258\n",
            "           1       0.83      0.90      0.86      3258\n",
            "\n",
            "    accuracy                           0.86      6516\n",
            "   macro avg       0.86      0.86      0.86      6516\n",
            "weighted avg       0.86      0.86      0.86      6516\n",
            "\n",
            "F2 Score: 0.8833\n",
            "Precision: 0.8298\n",
            "Accuracy: 0.8568\n",
            "ROC-AUC: 0.9372\n",
            "[INFO] scale_pos_weight = 1.00\n",
            "[LightGBM] [Info] Number of positive: 13031, number of negative: 13031\n",
            "[LightGBM] [Info] Auto-choosing col-wise multi-threading, the overhead of testing was 0.003647 seconds.\n",
            "You can set `force_col_wise=true` to remove the overhead.\n",
            "[LightGBM] [Info] Total Bins 7327\n",
            "[LightGBM] [Info] Number of data points in the train set: 26062, number of used features: 29\n",
            "[LightGBM] [Info] [binary:BoostFromScore]: pavg=0.500000 -> initscore=0.000000\n",
            "[LightGBM] [Warning] No further splits with positive gain, best gain: -inf\n",
            "[LightGBM] [Warning] No further splits with positive gain, best gain: -inf\n",
            "[LightGBM] [Warning] No further splits with positive gain, best gain: -inf\n",
            "[LightGBM] [Warning] No further splits with positive gain, best gain: -inf\n",
            "[LightGBM] [Warning] No further splits with positive gain, best gain: -inf\n"
          ]
        },
        {
          "name": "stderr",
          "output_type": "stream",
          "text": [
            "c:\\Users\\karth\\anaconda3\\Lib\\site-packages\\sklearn\\utils\\validation.py:2739: UserWarning: X does not have valid feature names, but LGBMClassifier was fitted with feature names\n",
            "  warnings.warn(\n"
          ]
        },
        {
          "name": "stdout",
          "output_type": "stream",
          "text": [
            "[INFO] Best Threshold = 0.3435\n",
            "[INFO] Best F2 Score = 0.8833\n",
            "\n",
            "=== Final Classification Report ===\n",
            "              precision    recall  f1-score   support\n",
            "\n",
            "           0       0.89      0.82      0.85      3258\n",
            "           1       0.83      0.90      0.86      3258\n",
            "\n",
            "    accuracy                           0.86      6516\n",
            "   macro avg       0.86      0.86      0.86      6516\n",
            "weighted avg       0.86      0.86      0.86      6516\n",
            "\n",
            "F2 Score: 0.8833\n",
            "Precision: 0.8298\n",
            "Accuracy: 0.8568\n",
            "ROC-AUC: 0.9372\n",
            "(LGBMClassifier(class_weight='balanced', max_depth=6, objective='binary',\n",
            "               random_state=42), 0.34350210034884493)\n"
          ]
        }
      ],
      "source": [
        "model,best_threshold=train_lightgbm_for_f2_and_accuracy(X_resampled_smote, y_resampled_smote)\n",
        "print(train_lightgbm_for_f2_and_accuracy(X_resampled_smote, y_resampled_smote))"
      ]
    },
    {
      "cell_type": "markdown",
      "metadata": {
        "id": "0136mfYui7DH"
      },
      "source": [
        "**Now Prediction for Validation Dataset**"
      ]
    },
    {
      "cell_type": "code",
      "execution_count": null,
      "metadata": {
        "colab": {
          "base_uri": "https://localhost:8080/",
          "height": 412
        },
        "id": "ElyhWFjCYtji",
        "outputId": "f6e6e7a7-f533-4a35-a5eb-c401394781ca"
      },
      "outputs": [
        {
          "data": {
            "text/html": [
              "<div>\n",
              "<style scoped>\n",
              "    .dataframe tbody tr th:only-of-type {\n",
              "        vertical-align: middle;\n",
              "    }\n",
              "\n",
              "    .dataframe tbody tr th {\n",
              "        vertical-align: top;\n",
              "    }\n",
              "\n",
              "    .dataframe thead th {\n",
              "        text-align: right;\n",
              "    }\n",
              "</style>\n",
              "<table border=\"1\" class=\"dataframe\">\n",
              "  <thead>\n",
              "    <tr style=\"text-align: right;\">\n",
              "      <th></th>\n",
              "      <th>Customer_ID</th>\n",
              "      <th>marriage</th>\n",
              "      <th>sex</th>\n",
              "      <th>education</th>\n",
              "      <th>LIMIT_BAL</th>\n",
              "      <th>age</th>\n",
              "      <th>pay_1</th>\n",
              "      <th>pay_2</th>\n",
              "      <th>pay_3</th>\n",
              "      <th>pay_4</th>\n",
              "      <th>...</th>\n",
              "      <th>Bill_amt5</th>\n",
              "      <th>Bill_amt6</th>\n",
              "      <th>pay_amt1</th>\n",
              "      <th>pay_amt2</th>\n",
              "      <th>pay_amt3</th>\n",
              "      <th>pay_amt4</th>\n",
              "      <th>pay_amt5</th>\n",
              "      <th>pay_amt6</th>\n",
              "      <th>AVG_Bill_amt</th>\n",
              "      <th>PAY_TO_BILL_ratio</th>\n",
              "    </tr>\n",
              "  </thead>\n",
              "  <tbody>\n",
              "    <tr>\n",
              "      <th>0</th>\n",
              "      <td>1</td>\n",
              "      <td>1</td>\n",
              "      <td>1</td>\n",
              "      <td>2</td>\n",
              "      <td>220000</td>\n",
              "      <td>32</td>\n",
              "      <td>0</td>\n",
              "      <td>0</td>\n",
              "      <td>0</td>\n",
              "      <td>0</td>\n",
              "      <td>...</td>\n",
              "      <td>17831.13</td>\n",
              "      <td>15670.47</td>\n",
              "      <td>2000.03</td>\n",
              "      <td>3999.90</td>\n",
              "      <td>1419.80</td>\n",
              "      <td>1999.97</td>\n",
              "      <td>3000.21</td>\n",
              "      <td>30788.71</td>\n",
              "      <td>23456.33</td>\n",
              "      <td>0.31</td>\n",
              "    </tr>\n",
              "    <tr>\n",
              "      <th>1</th>\n",
              "      <td>2</td>\n",
              "      <td>2</td>\n",
              "      <td>0</td>\n",
              "      <td>1</td>\n",
              "      <td>350000</td>\n",
              "      <td>35</td>\n",
              "      <td>-1</td>\n",
              "      <td>-1</td>\n",
              "      <td>-1</td>\n",
              "      <td>0</td>\n",
              "      <td>...</td>\n",
              "      <td>10832.78</td>\n",
              "      <td>2261.45</td>\n",
              "      <td>33891.01</td>\n",
              "      <td>16267.19</td>\n",
              "      <td>4026.80</td>\n",
              "      <td>234.10</td>\n",
              "      <td>1565.11</td>\n",
              "      <td>26346.39</td>\n",
              "      <td>13660.33</td>\n",
              "      <td>1.00</td>\n",
              "    </tr>\n",
              "    <tr>\n",
              "      <th>2</th>\n",
              "      <td>3</td>\n",
              "      <td>2</td>\n",
              "      <td>1</td>\n",
              "      <td>1</td>\n",
              "      <td>310000</td>\n",
              "      <td>39</td>\n",
              "      <td>0</td>\n",
              "      <td>0</td>\n",
              "      <td>0</td>\n",
              "      <td>0</td>\n",
              "      <td>...</td>\n",
              "      <td>240520.57</td>\n",
              "      <td>246524.45</td>\n",
              "      <td>11026.94</td>\n",
              "      <td>10499.83</td>\n",
              "      <td>14000.32</td>\n",
              "      <td>10000.12</td>\n",
              "      <td>10000.16</td>\n",
              "      <td>10000.21</td>\n",
              "      <td>258034.17</td>\n",
              "      <td>0.04</td>\n",
              "    </tr>\n",
              "    <tr>\n",
              "      <th>3</th>\n",
              "      <td>4</td>\n",
              "      <td>1</td>\n",
              "      <td>0</td>\n",
              "      <td>2</td>\n",
              "      <td>20000</td>\n",
              "      <td>47</td>\n",
              "      <td>0</td>\n",
              "      <td>0</td>\n",
              "      <td>0</td>\n",
              "      <td>2</td>\n",
              "      <td>...</td>\n",
              "      <td>15040.17</td>\n",
              "      <td>14749.97</td>\n",
              "      <td>1200.00</td>\n",
              "      <td>2799.83</td>\n",
              "      <td>0.14</td>\n",
              "      <td>1499.93</td>\n",
              "      <td>0.02</td>\n",
              "      <td>1000.26</td>\n",
              "      <td>13333.33</td>\n",
              "      <td>0.08</td>\n",
              "    </tr>\n",
              "    <tr>\n",
              "      <th>4</th>\n",
              "      <td>5</td>\n",
              "      <td>2</td>\n",
              "      <td>1</td>\n",
              "      <td>2</td>\n",
              "      <td>500000</td>\n",
              "      <td>30</td>\n",
              "      <td>0</td>\n",
              "      <td>0</td>\n",
              "      <td>0</td>\n",
              "      <td>0</td>\n",
              "      <td>...</td>\n",
              "      <td>69054.15</td>\n",
              "      <td>64841.30</td>\n",
              "      <td>25463.94</td>\n",
              "      <td>43095.31</td>\n",
              "      <td>7521.96</td>\n",
              "      <td>9065.17</td>\n",
              "      <td>8841.07</td>\n",
              "      <td>12000.21</td>\n",
              "      <td>77204.50</td>\n",
              "      <td>0.23</td>\n",
              "    </tr>\n",
              "    <tr>\n",
              "      <th>5</th>\n",
              "      <td>6</td>\n",
              "      <td>2</td>\n",
              "      <td>1</td>\n",
              "      <td>3</td>\n",
              "      <td>180000</td>\n",
              "      <td>52</td>\n",
              "      <td>0</td>\n",
              "      <td>0</td>\n",
              "      <td>0</td>\n",
              "      <td>0</td>\n",
              "      <td>...</td>\n",
              "      <td>134939.13</td>\n",
              "      <td>135815.03</td>\n",
              "      <td>5902.22</td>\n",
              "      <td>7692.94</td>\n",
              "      <td>5464.25</td>\n",
              "      <td>4892.92</td>\n",
              "      <td>5094.95</td>\n",
              "      <td>4862.26</td>\n",
              "      <td>156799.50</td>\n",
              "      <td>0.04</td>\n",
              "    </tr>\n",
              "    <tr>\n",
              "      <th>6</th>\n",
              "      <td>7</td>\n",
              "      <td>1</td>\n",
              "      <td>0</td>\n",
              "      <td>2</td>\n",
              "      <td>50000</td>\n",
              "      <td>36</td>\n",
              "      <td>0</td>\n",
              "      <td>0</td>\n",
              "      <td>0</td>\n",
              "      <td>0</td>\n",
              "      <td>...</td>\n",
              "      <td>48913.93</td>\n",
              "      <td>50441.36</td>\n",
              "      <td>1814.98</td>\n",
              "      <td>2305.94</td>\n",
              "      <td>1999.92</td>\n",
              "      <td>2000.05</td>\n",
              "      <td>2499.93</td>\n",
              "      <td>1700.21</td>\n",
              "      <td>48932.83</td>\n",
              "      <td>0.04</td>\n",
              "    </tr>\n",
              "    <tr>\n",
              "      <th>7</th>\n",
              "      <td>8</td>\n",
              "      <td>2</td>\n",
              "      <td>1</td>\n",
              "      <td>2</td>\n",
              "      <td>120000</td>\n",
              "      <td>23</td>\n",
              "      <td>0</td>\n",
              "      <td>0</td>\n",
              "      <td>0</td>\n",
              "      <td>0</td>\n",
              "      <td>...</td>\n",
              "      <td>4305.45</td>\n",
              "      <td>5128.68</td>\n",
              "      <td>2300.02</td>\n",
              "      <td>1199.89</td>\n",
              "      <td>999.83</td>\n",
              "      <td>1000.07</td>\n",
              "      <td>888.05</td>\n",
              "      <td>59999.64</td>\n",
              "      <td>21541.50</td>\n",
              "      <td>0.51</td>\n",
              "    </tr>\n",
              "    <tr>\n",
              "      <th>8</th>\n",
              "      <td>9</td>\n",
              "      <td>1</td>\n",
              "      <td>1</td>\n",
              "      <td>2</td>\n",
              "      <td>160000</td>\n",
              "      <td>42</td>\n",
              "      <td>0</td>\n",
              "      <td>0</td>\n",
              "      <td>0</td>\n",
              "      <td>0</td>\n",
              "      <td>...</td>\n",
              "      <td>35697.19</td>\n",
              "      <td>37122.86</td>\n",
              "      <td>2999.71</td>\n",
              "      <td>4999.86</td>\n",
              "      <td>2999.68</td>\n",
              "      <td>2000.06</td>\n",
              "      <td>1999.69</td>\n",
              "      <td>1999.98</td>\n",
              "      <td>31974.50</td>\n",
              "      <td>0.09</td>\n",
              "    </tr>\n",
              "    <tr>\n",
              "      <th>9</th>\n",
              "      <td>10</td>\n",
              "      <td>2</td>\n",
              "      <td>0</td>\n",
              "      <td>1</td>\n",
              "      <td>70000</td>\n",
              "      <td>31</td>\n",
              "      <td>0</td>\n",
              "      <td>0</td>\n",
              "      <td>0</td>\n",
              "      <td>0</td>\n",
              "      <td>...</td>\n",
              "      <td>64694.26</td>\n",
              "      <td>67905.69</td>\n",
              "      <td>6000.06</td>\n",
              "      <td>4999.94</td>\n",
              "      <td>10000.12</td>\n",
              "      <td>3000.37</td>\n",
              "      <td>5000.00</td>\n",
              "      <td>3000.12</td>\n",
              "      <td>58702.33</td>\n",
              "      <td>0.09</td>\n",
              "    </tr>\n",
              "  </tbody>\n",
              "</table>\n",
              "<p>10 rows × 26 columns</p>\n",
              "</div>"
            ],
            "text/plain": [
              "   Customer_ID  marriage  sex  education  LIMIT_BAL  age  pay_1  pay_2  pay_3  \\\n",
              "0            1         1    1          2     220000   32      0      0      0   \n",
              "1            2         2    0          1     350000   35     -1     -1     -1   \n",
              "2            3         2    1          1     310000   39      0      0      0   \n",
              "3            4         1    0          2      20000   47      0      0      0   \n",
              "4            5         2    1          2     500000   30      0      0      0   \n",
              "5            6         2    1          3     180000   52      0      0      0   \n",
              "6            7         1    0          2      50000   36      0      0      0   \n",
              "7            8         2    1          2     120000   23      0      0      0   \n",
              "8            9         1    1          2     160000   42      0      0      0   \n",
              "9           10         2    0          1      70000   31      0      0      0   \n",
              "\n",
              "   pay_4  ...  Bill_amt5  Bill_amt6  pay_amt1  pay_amt2  pay_amt3  pay_amt4  \\\n",
              "0      0  ...   17831.13   15670.47   2000.03   3999.90   1419.80   1999.97   \n",
              "1      0  ...   10832.78    2261.45  33891.01  16267.19   4026.80    234.10   \n",
              "2      0  ...  240520.57  246524.45  11026.94  10499.83  14000.32  10000.12   \n",
              "3      2  ...   15040.17   14749.97   1200.00   2799.83      0.14   1499.93   \n",
              "4      0  ...   69054.15   64841.30  25463.94  43095.31   7521.96   9065.17   \n",
              "5      0  ...  134939.13  135815.03   5902.22   7692.94   5464.25   4892.92   \n",
              "6      0  ...   48913.93   50441.36   1814.98   2305.94   1999.92   2000.05   \n",
              "7      0  ...    4305.45    5128.68   2300.02   1199.89    999.83   1000.07   \n",
              "8      0  ...   35697.19   37122.86   2999.71   4999.86   2999.68   2000.06   \n",
              "9      0  ...   64694.26   67905.69   6000.06   4999.94  10000.12   3000.37   \n",
              "\n",
              "   pay_amt5  pay_amt6  AVG_Bill_amt  PAY_TO_BILL_ratio  \n",
              "0   3000.21  30788.71      23456.33               0.31  \n",
              "1   1565.11  26346.39      13660.33               1.00  \n",
              "2  10000.16  10000.21     258034.17               0.04  \n",
              "3      0.02   1000.26      13333.33               0.08  \n",
              "4   8841.07  12000.21      77204.50               0.23  \n",
              "5   5094.95   4862.26     156799.50               0.04  \n",
              "6   2499.93   1700.21      48932.83               0.04  \n",
              "7    888.05  59999.64      21541.50               0.51  \n",
              "8   1999.69   1999.98      31974.50               0.09  \n",
              "9   5000.00   3000.12      58702.33               0.09  \n",
              "\n",
              "[10 rows x 26 columns]"
            ]
          },
          "execution_count": 92,
          "metadata": {},
          "output_type": "execute_result"
        }
      ],
      "source": [
        "df_val=df=pd.read_csv(r'C:\\Users\\sridattu\\Downloads\\validate_dataset_final.csv')\n",
        "# Renaming Necessary for pre-processing Pipeline\n",
        "df_val = df_val.rename(columns={'pay_0': 'pay_1'})\n",
        "df_val.head(10)\n"
      ]
    },
    {
      "cell_type": "code",
      "execution_count": 93,
      "metadata": {
        "colab": {
          "base_uri": "https://localhost:8080/"
        },
        "id": "lHY0AOYDZLCf",
        "outputId": "2a425526-0fb7-4510-8045-82624fe1e6da"
      },
      "outputs": [
        {
          "name": "stdout",
          "output_type": "stream",
          "text": [
            "(5016, 26)\n"
          ]
        },
        {
          "data": {
            "text/plain": [
              "(5016, 26)"
            ]
          },
          "execution_count": 93,
          "metadata": {},
          "output_type": "execute_result"
        }
      ],
      "source": [
        "print(df.shape)\n",
        "df= df.dropna()\n",
        "df.shape"
      ]
    },
    {
      "cell_type": "markdown",
      "metadata": {
        "id": "gJASIUHTZWws"
      },
      "source": [
        "**No Null values in Validation Dataset**"
      ]
    },
    {
      "cell_type": "code",
      "execution_count": 94,
      "metadata": {
        "colab": {
          "base_uri": "https://localhost:8080/",
          "height": 349
        },
        "id": "fmPp3vADZcCr",
        "outputId": "228e04c5-70eb-4aef-a918-b18eb2af83f1"
      },
      "outputs": [
        {
          "data": {
            "text/html": [
              "<div>\n",
              "<style scoped>\n",
              "    .dataframe tbody tr th:only-of-type {\n",
              "        vertical-align: middle;\n",
              "    }\n",
              "\n",
              "    .dataframe tbody tr th {\n",
              "        vertical-align: top;\n",
              "    }\n",
              "\n",
              "    .dataframe thead th {\n",
              "        text-align: right;\n",
              "    }\n",
              "</style>\n",
              "<table border=\"1\" class=\"dataframe\">\n",
              "  <thead>\n",
              "    <tr style=\"text-align: right;\">\n",
              "      <th></th>\n",
              "      <th>Customer_ID</th>\n",
              "      <th>marriage</th>\n",
              "      <th>sex</th>\n",
              "      <th>education</th>\n",
              "      <th>LIMIT_BAL</th>\n",
              "      <th>age</th>\n",
              "      <th>pay_1</th>\n",
              "      <th>pay_2</th>\n",
              "      <th>pay_3</th>\n",
              "      <th>pay_4</th>\n",
              "      <th>...</th>\n",
              "      <th>Bill_amt5</th>\n",
              "      <th>Bill_amt6</th>\n",
              "      <th>pay_amt1</th>\n",
              "      <th>pay_amt2</th>\n",
              "      <th>pay_amt3</th>\n",
              "      <th>pay_amt4</th>\n",
              "      <th>pay_amt5</th>\n",
              "      <th>pay_amt6</th>\n",
              "      <th>AVG_Bill_amt</th>\n",
              "      <th>PAY_TO_BILL_ratio</th>\n",
              "    </tr>\n",
              "  </thead>\n",
              "  <tbody>\n",
              "    <tr>\n",
              "      <th>count</th>\n",
              "      <td>5016.000000</td>\n",
              "      <td>5016.000000</td>\n",
              "      <td>5016.000000</td>\n",
              "      <td>5016.000000</td>\n",
              "      <td>5016.000000</td>\n",
              "      <td>5016.000000</td>\n",
              "      <td>5016.000000</td>\n",
              "      <td>5016.000000</td>\n",
              "      <td>5016.000000</td>\n",
              "      <td>5016.000000</td>\n",
              "      <td>...</td>\n",
              "      <td>5016.000000</td>\n",
              "      <td>5016.000000</td>\n",
              "      <td>5016.000000</td>\n",
              "      <td>5.016000e+03</td>\n",
              "      <td>5016.000000</td>\n",
              "      <td>5016.000000</td>\n",
              "      <td>5016.000000</td>\n",
              "      <td>5016.000000</td>\n",
              "      <td>5016.000000</td>\n",
              "      <td>5016.000000</td>\n",
              "    </tr>\n",
              "    <tr>\n",
              "      <th>mean</th>\n",
              "      <td>2508.500000</td>\n",
              "      <td>1.559410</td>\n",
              "      <td>0.606659</td>\n",
              "      <td>1.827751</td>\n",
              "      <td>168977.272727</td>\n",
              "      <td>35.379785</td>\n",
              "      <td>-0.031300</td>\n",
              "      <td>-0.161683</td>\n",
              "      <td>-0.188198</td>\n",
              "      <td>-0.235048</td>\n",
              "      <td>...</td>\n",
              "      <td>41244.782709</td>\n",
              "      <td>39805.868369</td>\n",
              "      <td>5356.196780</td>\n",
              "      <td>6.321958e+03</td>\n",
              "      <td>5420.142849</td>\n",
              "      <td>5150.979306</td>\n",
              "      <td>4926.404159</td>\n",
              "      <td>5148.384402</td>\n",
              "      <td>46054.169703</td>\n",
              "      <td>0.417159</td>\n",
              "    </tr>\n",
              "    <tr>\n",
              "      <th>std</th>\n",
              "      <td>1448.138806</td>\n",
              "      <td>0.516969</td>\n",
              "      <td>0.488540</td>\n",
              "      <td>0.740668</td>\n",
              "      <td>129478.787500</td>\n",
              "      <td>9.206542</td>\n",
              "      <td>1.116011</td>\n",
              "      <td>1.178731</td>\n",
              "      <td>1.172155</td>\n",
              "      <td>1.129667</td>\n",
              "      <td>...</td>\n",
              "      <td>62255.394325</td>\n",
              "      <td>60698.632561</td>\n",
              "      <td>13660.489329</td>\n",
              "      <td>2.920905e+04</td>\n",
              "      <td>17011.204561</td>\n",
              "      <td>17376.949234</td>\n",
              "      <td>17085.022267</td>\n",
              "      <td>16879.411346</td>\n",
              "      <td>65214.851897</td>\n",
              "      <td>13.729586</td>\n",
              "    </tr>\n",
              "    <tr>\n",
              "      <th>min</th>\n",
              "      <td>1.000000</td>\n",
              "      <td>1.000000</td>\n",
              "      <td>0.000000</td>\n",
              "      <td>1.000000</td>\n",
              "      <td>10000.000000</td>\n",
              "      <td>21.000000</td>\n",
              "      <td>-2.000000</td>\n",
              "      <td>-2.000000</td>\n",
              "      <td>-2.000000</td>\n",
              "      <td>-2.000000</td>\n",
              "      <td>...</td>\n",
              "      <td>0.000000</td>\n",
              "      <td>0.000000</td>\n",
              "      <td>0.000000</td>\n",
              "      <td>0.000000e+00</td>\n",
              "      <td>0.000000</td>\n",
              "      <td>0.000000</td>\n",
              "      <td>0.000000</td>\n",
              "      <td>0.000000</td>\n",
              "      <td>-10897.000000</td>\n",
              "      <td>-546.930000</td>\n",
              "    </tr>\n",
              "    <tr>\n",
              "      <th>25%</th>\n",
              "      <td>1254.750000</td>\n",
              "      <td>1.000000</td>\n",
              "      <td>0.000000</td>\n",
              "      <td>1.000000</td>\n",
              "      <td>50000.000000</td>\n",
              "      <td>28.000000</td>\n",
              "      <td>-1.000000</td>\n",
              "      <td>-1.000000</td>\n",
              "      <td>-1.000000</td>\n",
              "      <td>-1.000000</td>\n",
              "      <td>...</td>\n",
              "      <td>1755.395000</td>\n",
              "      <td>1205.210000</td>\n",
              "      <td>1000.047500</td>\n",
              "      <td>9.899050e+02</td>\n",
              "      <td>403.265000</td>\n",
              "      <td>278.172500</td>\n",
              "      <td>299.310000</td>\n",
              "      <td>156.382500</td>\n",
              "      <td>4905.665000</td>\n",
              "      <td>0.040000</td>\n",
              "    </tr>\n",
              "    <tr>\n",
              "      <th>50%</th>\n",
              "      <td>2508.500000</td>\n",
              "      <td>2.000000</td>\n",
              "      <td>1.000000</td>\n",
              "      <td>2.000000</td>\n",
              "      <td>140000.000000</td>\n",
              "      <td>34.000000</td>\n",
              "      <td>0.000000</td>\n",
              "      <td>0.000000</td>\n",
              "      <td>0.000000</td>\n",
              "      <td>0.000000</td>\n",
              "      <td>...</td>\n",
              "      <td>17953.255000</td>\n",
              "      <td>17054.315000</td>\n",
              "      <td>2093.655000</td>\n",
              "      <td>2.000410e+03</td>\n",
              "      <td>1845.425000</td>\n",
              "      <td>1500.120000</td>\n",
              "      <td>1500.155000</td>\n",
              "      <td>1453.210000</td>\n",
              "      <td>20933.415000</td>\n",
              "      <td>0.090000</td>\n",
              "    </tr>\n",
              "    <tr>\n",
              "      <th>75%</th>\n",
              "      <td>3762.250000</td>\n",
              "      <td>2.000000</td>\n",
              "      <td>1.000000</td>\n",
              "      <td>2.000000</td>\n",
              "      <td>240000.000000</td>\n",
              "      <td>41.250000</td>\n",
              "      <td>0.000000</td>\n",
              "      <td>0.000000</td>\n",
              "      <td>0.000000</td>\n",
              "      <td>0.000000</td>\n",
              "      <td>...</td>\n",
              "      <td>50175.052500</td>\n",
              "      <td>49070.565000</td>\n",
              "      <td>5029.505000</td>\n",
              "      <td>5.000323e+03</td>\n",
              "      <td>4883.887500</td>\n",
              "      <td>4282.550000</td>\n",
              "      <td>4097.725000</td>\n",
              "      <td>4000.095000</td>\n",
              "      <td>56573.540000</td>\n",
              "      <td>0.570000</td>\n",
              "    </tr>\n",
              "    <tr>\n",
              "      <th>max</th>\n",
              "      <td>5016.000000</td>\n",
              "      <td>3.000000</td>\n",
              "      <td>1.000000</td>\n",
              "      <td>4.000000</td>\n",
              "      <td>800000.000000</td>\n",
              "      <td>75.000000</td>\n",
              "      <td>8.000000</td>\n",
              "      <td>7.000000</td>\n",
              "      <td>7.000000</td>\n",
              "      <td>7.000000</td>\n",
              "      <td>...</td>\n",
              "      <td>547880.830000</td>\n",
              "      <td>513798.830000</td>\n",
              "      <td>323014.110000</td>\n",
              "      <td>1.684259e+06</td>\n",
              "      <td>371717.910000</td>\n",
              "      <td>432129.910000</td>\n",
              "      <td>426529.180000</td>\n",
              "      <td>260000.100000</td>\n",
              "      <td>548854.330000</td>\n",
              "      <td>797.000000</td>\n",
              "    </tr>\n",
              "  </tbody>\n",
              "</table>\n",
              "<p>8 rows × 26 columns</p>\n",
              "</div>"
            ],
            "text/plain": [
              "       Customer_ID     marriage          sex    education      LIMIT_BAL  \\\n",
              "count  5016.000000  5016.000000  5016.000000  5016.000000    5016.000000   \n",
              "mean   2508.500000     1.559410     0.606659     1.827751  168977.272727   \n",
              "std    1448.138806     0.516969     0.488540     0.740668  129478.787500   \n",
              "min       1.000000     1.000000     0.000000     1.000000   10000.000000   \n",
              "25%    1254.750000     1.000000     0.000000     1.000000   50000.000000   \n",
              "50%    2508.500000     2.000000     1.000000     2.000000  140000.000000   \n",
              "75%    3762.250000     2.000000     1.000000     2.000000  240000.000000   \n",
              "max    5016.000000     3.000000     1.000000     4.000000  800000.000000   \n",
              "\n",
              "               age        pay_1        pay_2        pay_3        pay_4  ...  \\\n",
              "count  5016.000000  5016.000000  5016.000000  5016.000000  5016.000000  ...   \n",
              "mean     35.379785    -0.031300    -0.161683    -0.188198    -0.235048  ...   \n",
              "std       9.206542     1.116011     1.178731     1.172155     1.129667  ...   \n",
              "min      21.000000    -2.000000    -2.000000    -2.000000    -2.000000  ...   \n",
              "25%      28.000000    -1.000000    -1.000000    -1.000000    -1.000000  ...   \n",
              "50%      34.000000     0.000000     0.000000     0.000000     0.000000  ...   \n",
              "75%      41.250000     0.000000     0.000000     0.000000     0.000000  ...   \n",
              "max      75.000000     8.000000     7.000000     7.000000     7.000000  ...   \n",
              "\n",
              "           Bill_amt5      Bill_amt6       pay_amt1      pay_amt2  \\\n",
              "count    5016.000000    5016.000000    5016.000000  5.016000e+03   \n",
              "mean    41244.782709   39805.868369    5356.196780  6.321958e+03   \n",
              "std     62255.394325   60698.632561   13660.489329  2.920905e+04   \n",
              "min         0.000000       0.000000       0.000000  0.000000e+00   \n",
              "25%      1755.395000    1205.210000    1000.047500  9.899050e+02   \n",
              "50%     17953.255000   17054.315000    2093.655000  2.000410e+03   \n",
              "75%     50175.052500   49070.565000    5029.505000  5.000323e+03   \n",
              "max    547880.830000  513798.830000  323014.110000  1.684259e+06   \n",
              "\n",
              "            pay_amt3       pay_amt4       pay_amt5       pay_amt6  \\\n",
              "count    5016.000000    5016.000000    5016.000000    5016.000000   \n",
              "mean     5420.142849    5150.979306    4926.404159    5148.384402   \n",
              "std     17011.204561   17376.949234   17085.022267   16879.411346   \n",
              "min         0.000000       0.000000       0.000000       0.000000   \n",
              "25%       403.265000     278.172500     299.310000     156.382500   \n",
              "50%      1845.425000    1500.120000    1500.155000    1453.210000   \n",
              "75%      4883.887500    4282.550000    4097.725000    4000.095000   \n",
              "max    371717.910000  432129.910000  426529.180000  260000.100000   \n",
              "\n",
              "        AVG_Bill_amt  PAY_TO_BILL_ratio  \n",
              "count    5016.000000        5016.000000  \n",
              "mean    46054.169703           0.417159  \n",
              "std     65214.851897          13.729586  \n",
              "min    -10897.000000        -546.930000  \n",
              "25%      4905.665000           0.040000  \n",
              "50%     20933.415000           0.090000  \n",
              "75%     56573.540000           0.570000  \n",
              "max    548854.330000         797.000000  \n",
              "\n",
              "[8 rows x 26 columns]"
            ]
          },
          "execution_count": 94,
          "metadata": {},
          "output_type": "execute_result"
        }
      ],
      "source": [
        "# necessary mapping is done to convert other categories to suitable ones\n",
        "df_val[\"education\"]=df_val[\"education\"].map({0:4,1:1,2:2,3:3,4:4,5:4,6:4})\n",
        "df_val[\"marriage\"]=df_val[\"marriage\"].map({0:3,1:1,2:2,3:3})\n",
        "df_val.describe()"
      ]
    },
    {
      "cell_type": "code",
      "execution_count": 95,
      "metadata": {
        "colab": {
          "base_uri": "https://localhost:8080/"
        },
        "id": "cmPlnMymaowy",
        "outputId": "2e1e2ba4-f699-4cac-ed29-95c6ee355037"
      },
      "outputs": [
        {
          "name": "stdout",
          "output_type": "stream",
          "text": [
            "Index(['marriage', 'sex', 'education', 'LIMIT_BAL', 'age', 'pay_1', 'pay_2',\n",
            "       'pay_3', 'pay_4', 'pay_5', 'pay_6', 'Bill_amt1', 'Bill_amt2',\n",
            "       'Bill_amt3', 'Bill_amt4', 'Bill_amt5', 'Bill_amt6', 'pay_amt1',\n",
            "       'pay_amt2', 'pay_amt3', 'pay_amt4', 'pay_amt5', 'pay_amt6',\n",
            "       'AVG_Bill_amt', 'PAY_TO_BILL_ratio'],\n",
            "      dtype='object')\n",
            "(5016, 29)\n"
          ]
        },
        {
          "name": "stderr",
          "output_type": "stream",
          "text": [
            "c:\\Users\\karth\\anaconda3\\Lib\\site-packages\\sklearn\\utils\\validation.py:2739: UserWarning: X does not have valid feature names, but LGBMClassifier was fitted with feature names\n",
            "  warnings.warn(\n"
          ]
        }
      ],
      "source": [
        "# Drop Customer_ID before passing\n",
        "X_val_input = df_val.drop('Customer_ID', axis=1)\n",
        "print(X_val_input.columns)\n",
        "\n",
        "# Transform data-using the fitted pipeline for Training Data\n",
        "X_val_processed = preprocessing_pipeline.transform(X_val_input)\n",
        "print(X_val_processed.shape)\n",
        "\n",
        "# Making predictions\n",
        "y_val_pred = (model.predict_proba(X_val_processed)[:, 1] >= best_threshold).astype(int)\n",
        "\n",
        "# Output to CSV\n",
        "df_output = pd.DataFrame({\n",
        "    'Customer_ID': df_val['Customer_ID'],\n",
        "    'Predicted_Default': y_val_pred\n",
        "})\n",
        "df_output.to_csv(\"validation_predictions.csv\", index=False)\n"
      ]
    },
    {
      "cell_type": "markdown",
      "metadata": {},
      "source": [
        "# Summary of Validation Predictions"
      ]
    },
    {
      "cell_type": "code",
      "execution_count": 97,
      "metadata": {},
      "outputs": [
        {
          "name": "stdout",
          "output_type": "stream",
          "text": [
            "   Customer_ID  Predicted_Default\n",
            "0            1                  0\n",
            "1            2                  0\n",
            "2            3                  0\n",
            "3            4                  1\n",
            "4            5                  0\n",
            "Predicted_Default\n",
            "0    3839\n",
            "1    1177\n",
            "Name: count, dtype: int64\n"
          ]
        }
      ],
      "source": [
        "import pandas as pd\n",
        "\n",
        "df_pred = pd.read_csv(\"validation_predictions.csv\")\n",
        "print(df_pred.head())\n",
        "print(df_pred['Predicted_Default'].value_counts())\n"
      ]
    }
  ],
  "metadata": {
    "accelerator": "GPU",
    "colab": {
      "gpuType": "T4",
      "provenance": []
    },
    "kernelspec": {
      "display_name": "base",
      "language": "python",
      "name": "python3"
    },
    "language_info": {
      "codemirror_mode": {
        "name": "ipython",
        "version": 3
      },
      "file_extension": ".py",
      "mimetype": "text/x-python",
      "name": "python",
      "nbconvert_exporter": "python",
      "pygments_lexer": "ipython3",
      "version": "3.11.4"
    }
  },
  "nbformat": 4,
  "nbformat_minor": 0
}
